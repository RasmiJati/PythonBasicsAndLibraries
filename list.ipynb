{
 "cells": [
  {
   "cell_type": "markdown",
   "id": "f8233864",
   "metadata": {},
   "source": [
    "# day 8"
   ]
  },
  {
   "cell_type": "markdown",
   "id": "8799d771",
   "metadata": {},
   "source": [
    "list"
   ]
  },
  {
   "cell_type": "markdown",
   "id": "fc145476",
   "metadata": {},
   "source": [
    "# create a list"
   ]
  },
  {
   "cell_type": "code",
   "execution_count": 1,
   "id": "a43cfb6d",
   "metadata": {},
   "outputs": [
    {
     "name": "stdout",
     "output_type": "stream",
     "text": [
      "['apple', 'mango', 'banana']\n",
      "<class 'list'>\n"
     ]
    }
   ],
   "source": [
    "mylist = [\"apple\" ,\"mango\",\"banana\"]\n",
    "print(mylist)\n",
    "print(type(mylist))"
   ]
  },
  {
   "cell_type": "markdown",
   "id": "404e7d23",
   "metadata": {},
   "source": [
    "# allow duplicates"
   ]
  },
  {
   "cell_type": "code",
   "execution_count": 2,
   "id": "95074191",
   "metadata": {},
   "outputs": [
    {
     "name": "stdout",
     "output_type": "stream",
     "text": [
      "['apple', 'mango', 'banana', 'apple', 'mango', 'banana']\n",
      "<class 'list'>\n"
     ]
    }
   ],
   "source": [
    "mylist = [\"apple\" ,\"mango\",\"banana\",\"apple\" ,\"mango\",\"banana\"]\n",
    "print(mylist)\n",
    "print(type(mylist))"
   ]
  },
  {
   "cell_type": "markdown",
   "id": "41353d42",
   "metadata": {},
   "source": [
    "# data types"
   ]
  },
  {
   "cell_type": "code",
   "execution_count": 3,
   "id": "634776a0",
   "metadata": {},
   "outputs": [
    {
     "name": "stdout",
     "output_type": "stream",
     "text": [
      "['apple', 2, 2.5]\n",
      "<class 'list'>\n"
     ]
    }
   ],
   "source": [
    "mylist = [\"apple\" ,2,2.5]\n",
    "print(mylist)\n",
    "print(type(mylist))"
   ]
  },
  {
   "cell_type": "markdown",
   "id": "6e4901a0",
   "metadata": {},
   "source": [
    "# list length"
   ]
  },
  {
   "cell_type": "code",
   "execution_count": 4,
   "id": "c9d5b108",
   "metadata": {},
   "outputs": [
    {
     "name": "stdout",
     "output_type": "stream",
     "text": [
      "3\n"
     ]
    }
   ],
   "source": [
    "mylist = [\"apple\" ,2,2.5]\n",
    "print(len(mylist))"
   ]
  },
  {
   "cell_type": "markdown",
   "id": "0ee20a42",
   "metadata": {},
   "source": [
    "# access list items"
   ]
  },
  {
   "cell_type": "code",
   "execution_count": 6,
   "id": "1aeb304e",
   "metadata": {},
   "outputs": [
    {
     "name": "stdout",
     "output_type": "stream",
     "text": [
      "2\n"
     ]
    }
   ],
   "source": [
    "thislist = [12,15,48,20,11,2,52,16]\n",
    "print(thislist[5])"
   ]
  },
  {
   "cell_type": "code",
   "execution_count": 8,
   "id": "2fe61f5a",
   "metadata": {},
   "outputs": [
    {
     "name": "stdout",
     "output_type": "stream",
     "text": [
      "11\n"
     ]
    }
   ],
   "source": [
    "thislist = [12,15,48,20,11,2,52,16]\n",
    "print(thislist[-4])"
   ]
  },
  {
   "cell_type": "markdown",
   "id": "07a26bcc",
   "metadata": {},
   "source": [
    "# slicing"
   ]
  },
  {
   "cell_type": "code",
   "execution_count": 11,
   "id": "a4d28d65",
   "metadata": {},
   "outputs": [
    {
     "name": "stdout",
     "output_type": "stream",
     "text": [
      "[12, 15, 48, 20, 11, 2]\n"
     ]
    }
   ],
   "source": [
    "thislist = [12,15,48,20,11,2,52,16,8,6,50,22,26,99]\n",
    "print(thislist[0:6])"
   ]
  },
  {
   "cell_type": "code",
   "execution_count": 13,
   "id": "15f2668c",
   "metadata": {},
   "outputs": [
    {
     "name": "stdout",
     "output_type": "stream",
     "text": [
      "[11, 2, 52, 16, 8, 6]\n"
     ]
    }
   ],
   "source": [
    "thislist = [12,15,48,20,11,2,52,16,8,6,50,22,26,99]\n",
    "print(thislist[4:10])"
   ]
  },
  {
   "cell_type": "code",
   "execution_count": 14,
   "id": "cd8963c1",
   "metadata": {},
   "outputs": [
    {
     "name": "stdout",
     "output_type": "stream",
     "text": [
      "[12, 48, 11, 52, 8, 50]\n"
     ]
    }
   ],
   "source": [
    "thislist = [12,15,48,20,11,2,52,16,8,6,50,22,26,99]\n",
    "print(thislist[0:11:2])"
   ]
  },
  {
   "cell_type": "markdown",
   "id": "0fa906f9",
   "metadata": {},
   "source": [
    "# change list items"
   ]
  },
  {
   "cell_type": "code",
   "execution_count": 17,
   "id": "e630ba44",
   "metadata": {},
   "outputs": [
    {
     "name": "stdout",
     "output_type": "stream",
     "text": [
      "['apple', 'mango', 'cherry']\n"
     ]
    }
   ],
   "source": [
    "myList = [\"apple\" ,\"mango\",\"banana\"]\n",
    "myList[2] = \"cherry\"\n",
    "print(myList)"
   ]
  },
  {
   "cell_type": "markdown",
   "id": "e0989091",
   "metadata": {},
   "source": [
    "# change range of item value"
   ]
  },
  {
   "cell_type": "code",
   "execution_count": 19,
   "id": "efbd8b5a",
   "metadata": {},
   "outputs": [
    {
     "name": "stdout",
     "output_type": "stream",
     "text": [
      "[12, 15, 'cherry', 'pen', 'paper', 11, 2, 52, 16, 8, 6, 50, 22, 26, 99]\n"
     ]
    }
   ],
   "source": [
    "myList = [12,15,48,20,11,2,52,16,8,6,50,22,26,99]\n",
    "myList[2:4] = [\"cherry\",\"pen\",\"paper\"]\n",
    "print(myList)"
   ]
  },
  {
   "cell_type": "markdown",
   "id": "bab304eb",
   "metadata": {},
   "source": [
    "# add item to list"
   ]
  },
  {
   "cell_type": "code",
   "execution_count": 20,
   "id": "4f3359d3",
   "metadata": {},
   "outputs": [
    {
     "name": "stdout",
     "output_type": "stream",
     "text": [
      "[12, 15, 48, 20, 11, 2, 52, 16, 8, 6, 50, 22, 26, 99, -9]\n"
     ]
    }
   ],
   "source": [
    "a = [12,15,48,20,11,2,52,16,8,6,50,22,26,99]\n",
    "a.append(-9)\n",
    "print(a)"
   ]
  },
  {
   "cell_type": "markdown",
   "id": "6dbb7c23",
   "metadata": {},
   "source": [
    "# remove item from list"
   ]
  },
  {
   "cell_type": "code",
   "execution_count": 22,
   "id": "73c733e9",
   "metadata": {},
   "outputs": [
    {
     "name": "stdout",
     "output_type": "stream",
     "text": [
      "[12, 15, 48, 20, 11, 2, 52, 8, 6, 50, 22, 26, 99]\n"
     ]
    }
   ],
   "source": [
    "a = [12,15,48,20,11,2,52,16,8,6,50,22,26,99]\n",
    "a.remove(16)\n",
    "print(a)"
   ]
  },
  {
   "cell_type": "markdown",
   "id": "d7c23f99",
   "metadata": {},
   "source": [
    "# reverse list"
   ]
  },
  {
   "cell_type": "code",
   "execution_count": 24,
   "id": "ece8bb69",
   "metadata": {},
   "outputs": [
    {
     "name": "stdout",
     "output_type": "stream",
     "text": [
      "[99, 26, 'python', 11, 20, 48, 15, 12]\n"
     ]
    }
   ],
   "source": [
    "a = [12,15,48,20,11,\"python\",26,99]\n",
    "a.reverse()\n",
    "print(a)"
   ]
  },
  {
   "cell_type": "markdown",
   "id": "b47fecca",
   "metadata": {},
   "source": [
    "# for with list"
   ]
  },
  {
   "cell_type": "code",
   "execution_count": 34,
   "id": "113b9dd1",
   "metadata": {},
   "outputs": [
    {
     "name": "stdout",
     "output_type": "stream",
     "text": [
      "13\n",
      "475\n"
     ]
    }
   ],
   "source": [
    "l = [14,15,78,12,-9,23,-8,52,74,89,25,102,8]\n",
    "print(len(l))\n",
    "a = 0\n",
    "for i in range(13):\n",
    "    a = a + l[i]\n",
    "    i = i+1\n",
    "print(a)"
   ]
  },
  {
   "cell_type": "markdown",
   "id": "0ecda656",
   "metadata": {},
   "source": [
    "# multiply all th enumber of the list"
   ]
  },
  {
   "cell_type": "code",
   "execution_count": 40,
   "id": "1a453014",
   "metadata": {},
   "outputs": [
    {
     "name": "stdout",
     "output_type": "stream",
     "text": [
      "10\n",
      "3628800\n"
     ]
    }
   ],
   "source": [
    "a = [1,2,3,4,5,6,7,8,9,10]\n",
    "print(len(a))\n",
    "b = 1\n",
    "for i in range(10):\n",
    "    b = b * a[i]\n",
    "    i = i+1\n",
    "print(b)"
   ]
  },
  {
   "cell_type": "code",
   "execution_count": null,
   "id": "d4fa46d2",
   "metadata": {},
   "outputs": [],
   "source": []
  }
 ],
 "metadata": {
  "kernelspec": {
   "display_name": "Python 3 (ipykernel)",
   "language": "python",
   "name": "python3"
  },
  "language_info": {
   "codemirror_mode": {
    "name": "ipython",
    "version": 3
   },
   "file_extension": ".py",
   "mimetype": "text/x-python",
   "name": "python",
   "nbconvert_exporter": "python",
   "pygments_lexer": "ipython3",
   "version": "3.11.5"
  }
 },
 "nbformat": 4,
 "nbformat_minor": 5
}
