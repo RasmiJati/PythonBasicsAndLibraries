{
 "cells": [
  {
   "cell_type": "markdown",
   "id": "e8732112",
   "metadata": {},
   "source": [
    "# day 7"
   ]
  },
  {
   "cell_type": "markdown",
   "id": "419431b9",
   "metadata": {},
   "source": [
    "strings"
   ]
  },
  {
   "cell_type": "markdown",
   "id": "f40d1a1c",
   "metadata": {},
   "source": [
    "creating string in python"
   ]
  },
  {
   "cell_type": "code",
   "execution_count": 1,
   "id": "a6335365",
   "metadata": {},
   "outputs": [
    {
     "name": "stdout",
     "output_type": "stream",
     "text": [
      "hello\n"
     ]
    }
   ],
   "source": [
    "a = \"hello\"\n",
    "print(a)"
   ]
  },
  {
   "cell_type": "markdown",
   "id": "f35f10cc",
   "metadata": {},
   "source": [
    "# multipline string"
   ]
  },
  {
   "cell_type": "code",
   "execution_count": 2,
   "id": "23f454d4",
   "metadata": {},
   "outputs": [
    {
     "name": "stdout",
     "output_type": "stream",
     "text": [
      " hello\n",
      " welcome\n",
      " dear\n"
     ]
    }
   ],
   "source": [
    "a = \"\"\" hello\n",
    " welcome\n",
    " dear\"\"\"\n",
    "print(a)"
   ]
  },
  {
   "cell_type": "markdown",
   "id": "eeef4c49",
   "metadata": {},
   "source": [
    "# indexing in string"
   ]
  },
  {
   "cell_type": "code",
   "execution_count": 8,
   "id": "528ff162",
   "metadata": {},
   "outputs": [
    {
     "name": "stdout",
     "output_type": "stream",
     "text": [
      "hello dear\n",
      "r\n",
      "e\n"
     ]
    }
   ],
   "source": [
    "a = \"hello dear\"\n",
    "print(a)\n",
    "print(a[9])\n",
    "print(a[-9])\n"
   ]
  },
  {
   "cell_type": "markdown",
   "id": "0a15c3e9",
   "metadata": {},
   "source": [
    "# slicing of string"
   ]
  },
  {
   "cell_type": "code",
   "execution_count": 12,
   "id": "7a24f786",
   "metadata": {},
   "outputs": [
    {
     "name": "stdout",
     "output_type": "stream",
     "text": [
      "o how a\n"
     ]
    }
   ],
   "source": [
    "a = \"hello how are you ?\"\n",
    "print(a[4:11])"
   ]
  },
  {
   "cell_type": "code",
   "execution_count": 13,
   "id": "3afe4a96",
   "metadata": {},
   "outputs": [
    {
     "name": "stdout",
     "output_type": "stream",
     "text": [
      "hlohw\n"
     ]
    }
   ],
   "source": [
    "a = \"hello how are you ?\"\n",
    "print(a[0:10:2])"
   ]
  },
  {
   "cell_type": "markdown",
   "id": "4738ae6f",
   "metadata": {},
   "source": [
    "# reverse string"
   ]
  },
  {
   "cell_type": "code",
   "execution_count": 14,
   "id": "155a75c2",
   "metadata": {},
   "outputs": [
    {
     "name": "stdout",
     "output_type": "stream",
     "text": [
      "? uoy era woh olleh\n"
     ]
    }
   ],
   "source": [
    "a = \"hello how are you ?\"\n",
    "print(a[:: -1])"
   ]
  },
  {
   "cell_type": "markdown",
   "id": "a7ef0bda",
   "metadata": {},
   "source": [
    "# string length"
   ]
  },
  {
   "cell_type": "code",
   "execution_count": 15,
   "id": "f5b79adc",
   "metadata": {},
   "outputs": [
    {
     "name": "stdout",
     "output_type": "stream",
     "text": [
      "19\n"
     ]
    }
   ],
   "source": [
    "a = \"hello how are you ?\"\n",
    "print(len(a))"
   ]
  },
  {
   "cell_type": "markdown",
   "id": "fe516fef",
   "metadata": {},
   "source": [
    "# upper and lower"
   ]
  },
  {
   "cell_type": "code",
   "execution_count": 21,
   "id": "8e4b0686",
   "metadata": {},
   "outputs": [
    {
     "name": "stdout",
     "output_type": "stream",
     "text": [
      "HELLO HOW ARE YOU ?\n",
      "hello how are you ?\n"
     ]
    }
   ],
   "source": [
    "a = \"hello How are you ?\"\n",
    "print(a.upper())\n",
    "print(a.lower())"
   ]
  },
  {
   "cell_type": "markdown",
   "id": "79b26b79",
   "metadata": {},
   "source": [
    "# replace function"
   ]
  },
  {
   "cell_type": "code",
   "execution_count": 22,
   "id": "3fbb01b9",
   "metadata": {},
   "outputs": [
    {
     "name": "stdout",
     "output_type": "stream",
     "text": [
      "hi how are you ?\n"
     ]
    }
   ],
   "source": [
    "a = \"hello how are you ?\"\n",
    "print(a.replace(\"hello\",\"hi\"))"
   ]
  },
  {
   "cell_type": "markdown",
   "id": "bf8e9d42",
   "metadata": {},
   "source": [
    "# find method()"
   ]
  },
  {
   "cell_type": "code",
   "execution_count": 24,
   "id": "9d0101a8",
   "metadata": {},
   "outputs": [
    {
     "name": "stdout",
     "output_type": "stream",
     "text": [
      "8\n"
     ]
    }
   ],
   "source": [
    "a = \"hello how are you ?\"\n",
    "print(a.find(\"w\"))"
   ]
  },
  {
   "cell_type": "code",
   "execution_count": null,
   "id": "414bd975",
   "metadata": {},
   "outputs": [],
   "source": []
  }
 ],
 "metadata": {
  "kernelspec": {
   "display_name": "Python 3 (ipykernel)",
   "language": "python",
   "name": "python3"
  },
  "language_info": {
   "codemirror_mode": {
    "name": "ipython",
    "version": 3
   },
   "file_extension": ".py",
   "mimetype": "text/x-python",
   "name": "python",
   "nbconvert_exporter": "python",
   "pygments_lexer": "ipython3",
   "version": "3.11.5"
  }
 },
 "nbformat": 4,
 "nbformat_minor": 5
}
