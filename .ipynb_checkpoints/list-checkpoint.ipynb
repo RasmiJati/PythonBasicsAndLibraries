{
 "cells": [
  {
   "cell_type": "markdown",
   "id": "5ee531f3",
   "metadata": {},
   "source": [
    "# day 8"
   ]
  },
  {
   "cell_type": "markdown",
   "id": "29803e2c",
   "metadata": {},
   "source": [
    "list"
   ]
  },
  {
   "cell_type": "markdown",
   "id": "e642f6d4",
   "metadata": {},
   "source": [
    "# create a list"
   ]
  },
  {
   "cell_type": "code",
   "execution_count": 1,
   "id": "75d6f63c",
   "metadata": {},
   "outputs": [
    {
     "name": "stdout",
     "output_type": "stream",
     "text": [
      "['apple', 'mango', 'banana']\n",
      "<class 'list'>\n"
     ]
    }
   ],
   "source": [
    "mylist = [\"apple\" ,\"mango\",\"banana\"]\n",
    "print(mylist)\n",
    "print(type(mylist))"
   ]
  },
  {
   "cell_type": "markdown",
   "id": "e7dfb5a7",
   "metadata": {},
   "source": [
    "# allow duplicates"
   ]
  },
  {
   "cell_type": "code",
   "execution_count": 2,
   "id": "704e31aa",
   "metadata": {},
   "outputs": [
    {
     "name": "stdout",
     "output_type": "stream",
     "text": [
      "['apple', 'mango', 'banana', 'apple', 'mango', 'banana']\n",
      "<class 'list'>\n"
     ]
    }
   ],
   "source": [
    "mylist = [\"apple\" ,\"mango\",\"banana\",\"apple\" ,\"mango\",\"banana\"]\n",
    "print(mylist)\n",
    "print(type(mylist))"
   ]
  },
  {
   "cell_type": "markdown",
   "id": "b16ce705",
   "metadata": {},
   "source": [
    "# data types"
   ]
  },
  {
   "cell_type": "code",
   "execution_count": 3,
   "id": "5390c462",
   "metadata": {},
   "outputs": [
    {
     "name": "stdout",
     "output_type": "stream",
     "text": [
      "['apple', 2, 2.5]\n",
      "<class 'list'>\n"
     ]
    }
   ],
   "source": [
    "mylist = [\"apple\" ,2,2.5]\n",
    "print(mylist)\n",
    "print(type(mylist))"
   ]
  },
  {
   "cell_type": "markdown",
   "id": "40c9e914",
   "metadata": {},
   "source": [
    "# list length"
   ]
  },
  {
   "cell_type": "code",
   "execution_count": 4,
   "id": "c3fda51f",
   "metadata": {},
   "outputs": [
    {
     "name": "stdout",
     "output_type": "stream",
     "text": [
      "3\n"
     ]
    }
   ],
   "source": [
    "mylist = [\"apple\" ,2,2.5]\n",
    "print(len(mylist))"
   ]
  },
  {
   "cell_type": "markdown",
   "id": "c5fd0bb0",
   "metadata": {},
   "source": [
    "# access list items"
   ]
  },
  {
   "cell_type": "code",
   "execution_count": 6,
   "id": "4178f2dd",
   "metadata": {},
   "outputs": [
    {
     "name": "stdout",
     "output_type": "stream",
     "text": [
      "2\n"
     ]
    }
   ],
   "source": [
    "thislist = [12,15,48,20,11,2,52,16]\n",
    "print(thislist[5])"
   ]
  },
  {
   "cell_type": "code",
   "execution_count": 8,
   "id": "7475e6e4",
   "metadata": {},
   "outputs": [
    {
     "name": "stdout",
     "output_type": "stream",
     "text": [
      "11\n"
     ]
    }
   ],
   "source": [
    "thislist = [12,15,48,20,11,2,52,16]\n",
    "print(thislist[-4])"
   ]
  },
  {
   "cell_type": "markdown",
   "id": "5b9e2cc7",
   "metadata": {},
   "source": [
    "# slicing"
   ]
  },
  {
   "cell_type": "code",
   "execution_count": 11,
   "id": "04817a61",
   "metadata": {},
   "outputs": [
    {
     "name": "stdout",
     "output_type": "stream",
     "text": [
      "[12, 15, 48, 20, 11, 2]\n"
     ]
    }
   ],
   "source": [
    "thislist = [12,15,48,20,11,2,52,16,8,6,50,22,26,99]\n",
    "print(thislist[0:6])"
   ]
  },
  {
   "cell_type": "code",
   "execution_count": 13,
   "id": "d043ab28",
   "metadata": {},
   "outputs": [
    {
     "name": "stdout",
     "output_type": "stream",
     "text": [
      "[11, 2, 52, 16, 8, 6]\n"
     ]
    }
   ],
   "source": [
    "thislist = [12,15,48,20,11,2,52,16,8,6,50,22,26,99]\n",
    "print(thislist[4:10])"
   ]
  },
  {
   "cell_type": "code",
   "execution_count": 14,
   "id": "5070d7d3",
   "metadata": {},
   "outputs": [
    {
     "name": "stdout",
     "output_type": "stream",
     "text": [
      "[12, 48, 11, 52, 8, 50]\n"
     ]
    }
   ],
   "source": [
    "thislist = [12,15,48,20,11,2,52,16,8,6,50,22,26,99]\n",
    "print(thislist[0:11:2])"
   ]
  },
  {
   "cell_type": "markdown",
   "id": "ade184e7",
   "metadata": {},
   "source": [
    "# change list items"
   ]
  },
  {
   "cell_type": "code",
   "execution_count": 17,
   "id": "9319f1bb",
   "metadata": {},
   "outputs": [
    {
     "name": "stdout",
     "output_type": "stream",
     "text": [
      "['apple', 'mango', 'cherry']\n"
     ]
    }
   ],
   "source": [
    "myList = [\"apple\" ,\"mango\",\"banana\"]\n",
    "myList[2] = \"cherry\"\n",
    "print(myList)"
   ]
  },
  {
   "cell_type": "markdown",
   "id": "aef3d5aa",
   "metadata": {},
   "source": [
    "# change range of item value"
   ]
  },
  {
   "cell_type": "code",
   "execution_count": 19,
   "id": "a880352b",
   "metadata": {},
   "outputs": [
    {
     "name": "stdout",
     "output_type": "stream",
     "text": [
      "[12, 15, 'cherry', 'pen', 'paper', 11, 2, 52, 16, 8, 6, 50, 22, 26, 99]\n"
     ]
    }
   ],
   "source": [
    "myList = [12,15,48,20,11,2,52,16,8,6,50,22,26,99]\n",
    "myList[2:4] = [\"cherry\",\"pen\",\"paper\"]\n",
    "print(myList)"
   ]
  },
  {
   "cell_type": "markdown",
   "id": "0381a736",
   "metadata": {},
   "source": [
    "# add item to list"
   ]
  },
  {
   "cell_type": "code",
   "execution_count": 20,
   "id": "a02c19cf",
   "metadata": {},
   "outputs": [
    {
     "name": "stdout",
     "output_type": "stream",
     "text": [
      "[12, 15, 48, 20, 11, 2, 52, 16, 8, 6, 50, 22, 26, 99, -9]\n"
     ]
    }
   ],
   "source": [
    "a = [12,15,48,20,11,2,52,16,8,6,50,22,26,99]\n",
    "a.append(-9)\n",
    "print(a)"
   ]
  },
  {
   "cell_type": "markdown",
   "id": "bb25bb5b",
   "metadata": {},
   "source": [
    "# remove item from list"
   ]
  },
  {
   "cell_type": "code",
   "execution_count": 22,
   "id": "e57b0f0b",
   "metadata": {},
   "outputs": [
    {
     "name": "stdout",
     "output_type": "stream",
     "text": [
      "[12, 15, 48, 20, 11, 2, 52, 8, 6, 50, 22, 26, 99]\n"
     ]
    }
   ],
   "source": [
    "a = [12,15,48,20,11,2,52,16,8,6,50,22,26,99]\n",
    "a.remove(16)\n",
    "print(a)"
   ]
  },
  {
   "cell_type": "markdown",
   "id": "7c104c5e",
   "metadata": {},
   "source": [
    "# reverse list"
   ]
  },
  {
   "cell_type": "code",
   "execution_count": 24,
   "id": "26087322",
   "metadata": {},
   "outputs": [
    {
     "name": "stdout",
     "output_type": "stream",
     "text": [
      "[99, 26, 'python', 11, 20, 48, 15, 12]\n"
     ]
    }
   ],
   "source": [
    "a = [12,15,48,20,11,\"python\",26,99]\n",
    "a.reverse()\n",
    "print(a)"
   ]
  },
  {
   "cell_type": "markdown",
   "id": "868e8ea5",
   "metadata": {},
   "source": [
    "# for with list"
   ]
  },
  {
   "cell_type": "code",
   "execution_count": 34,
   "id": "99e18557",
   "metadata": {},
   "outputs": [
    {
     "name": "stdout",
     "output_type": "stream",
     "text": [
      "13\n",
      "475\n"
     ]
    }
   ],
   "source": [
    "l = [14,15,78,12,-9,23,-8,52,74,89,25,102,8]\n",
    "print(len(l))\n",
    "a = 0\n",
    "for i in range(13):\n",
    "    a = a + l[i]\n",
    "    i = i+1\n",
    "print(a)"
   ]
  },
  {
   "cell_type": "code",
   "execution_count": null,
   "id": "24e4e835",
   "metadata": {},
   "outputs": [],
   "source": []
  }
 ],
 "metadata": {
  "kernelspec": {
   "display_name": "Python 3 (ipykernel)",
   "language": "python",
   "name": "python3"
  },
  "language_info": {
   "codemirror_mode": {
    "name": "ipython",
    "version": 3
   },
   "file_extension": ".py",
   "mimetype": "text/x-python",
   "name": "python",
   "nbconvert_exporter": "python",
   "pygments_lexer": "ipython3",
   "version": "3.11.5"
  }
 },
 "nbformat": 4,
 "nbformat_minor": 5
}
