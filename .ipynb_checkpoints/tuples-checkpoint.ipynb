{
 "cells": [
  {
   "cell_type": "markdown",
   "id": "08b1c9e9",
   "metadata": {},
   "source": [
    "# day 9"
   ]
  },
  {
   "cell_type": "markdown",
   "id": "299ac2a9",
   "metadata": {},
   "source": [
    "tuples"
   ]
  },
  {
   "cell_type": "markdown",
   "id": "11321f64",
   "metadata": {},
   "source": [
    "# creating tuples"
   ]
  },
  {
   "cell_type": "code",
   "execution_count": 1,
   "id": "db26c12a",
   "metadata": {},
   "outputs": [
    {
     "name": "stdout",
     "output_type": "stream",
     "text": [
      "(1, 2, 3, 4, 5)\n",
      "<class 'tuple'>\n"
     ]
    }
   ],
   "source": [
    "mytuple = (1,2,3,4,5)\n",
    "print(mytuple)\n",
    "print(type(mytuple))"
   ]
  },
  {
   "cell_type": "markdown",
   "id": "2420af6e",
   "metadata": {},
   "source": [
    "# mixed datatype"
   ]
  },
  {
   "cell_type": "code",
   "execution_count": 2,
   "id": "1a7b7bcd",
   "metadata": {},
   "outputs": [
    {
     "name": "stdout",
     "output_type": "stream",
     "text": [
      "(1, 2, 3, 4, 5, 5.5, 'hello')\n"
     ]
    }
   ],
   "source": [
    "mytuple = (1,2,3,4,5,5.5,\"hello\")\n",
    "print(mytuple)\n"
   ]
  },
  {
   "cell_type": "markdown",
   "id": "d6171cc8",
   "metadata": {},
   "source": [
    "# empty tuple"
   ]
  },
  {
   "cell_type": "code",
   "execution_count": 4,
   "id": "44a75e70",
   "metadata": {},
   "outputs": [
    {
     "name": "stdout",
     "output_type": "stream",
     "text": [
      "()\n"
     ]
    }
   ],
   "source": [
    "mytuple = ()\n",
    "print(mytuple)"
   ]
  },
  {
   "cell_type": "markdown",
   "id": "57c8b331",
   "metadata": {},
   "source": [
    "# nested tuple"
   ]
  },
  {
   "cell_type": "code",
   "execution_count": 5,
   "id": "035d0fbc",
   "metadata": {},
   "outputs": [
    {
     "name": "stdout",
     "output_type": "stream",
     "text": [
      "('data', [1, 2, 3], (5, 6, 7))\n"
     ]
    }
   ],
   "source": [
    "a = (\"data\" , [1,2,3],(5,6,7))\n",
    "print(a)"
   ]
  },
  {
   "cell_type": "markdown",
   "id": "87253957",
   "metadata": {},
   "source": [
    "# creating tuple with only one item with ,"
   ]
  },
  {
   "cell_type": "code",
   "execution_count": 9,
   "id": "015bcc01",
   "metadata": {},
   "outputs": [
    {
     "name": "stdout",
     "output_type": "stream",
     "text": [
      "('hello',)\n",
      "<class 'tuple'>\n"
     ]
    }
   ],
   "source": [
    "var1 = (\"hello\",)\n",
    "print(var1)\n",
    "print(type(var1))"
   ]
  },
  {
   "cell_type": "markdown",
   "id": "ae39575c",
   "metadata": {},
   "source": [
    "# tuple constructor"
   ]
  },
  {
   "cell_type": "code",
   "execution_count": 12,
   "id": "d0fcfede",
   "metadata": {},
   "outputs": [
    {
     "name": "stdout",
     "output_type": "stream",
     "text": [
      "('a', 'b', 'c')\n"
     ]
    }
   ],
   "source": [
    "a = tuple((\"a\",\"b\",\"c\"))\n",
    "print(a)"
   ]
  },
  {
   "cell_type": "markdown",
   "id": "54c79c23",
   "metadata": {},
   "source": [
    "# indexing"
   ]
  },
  {
   "cell_type": "code",
   "execution_count": 15,
   "id": "835c51c1",
   "metadata": {},
   "outputs": [
    {
     "name": "stdout",
     "output_type": "stream",
     "text": [
      "4\n",
      "46\n"
     ]
    }
   ],
   "source": [
    "a = (47,48,45,46,48,4,8,\"python\")\n",
    "print(a[5])\n",
    "print(a[-5])"
   ]
  },
  {
   "cell_type": "markdown",
   "id": "bebb6387",
   "metadata": {},
   "source": [
    "# slicing"
   ]
  },
  {
   "cell_type": "code",
   "execution_count": 18,
   "id": "6428b4ed",
   "metadata": {},
   "outputs": [
    {
     "name": "stdout",
     "output_type": "stream",
     "text": [
      "(46, 48, 4, 8, 7)\n"
     ]
    }
   ],
   "source": [
    "a = (47,48,45,46,48,4,8,7,5,9)\n",
    "print(a[3:8])"
   ]
  },
  {
   "cell_type": "code",
   "execution_count": 19,
   "id": "5b394963",
   "metadata": {},
   "outputs": [
    {
     "name": "stdout",
     "output_type": "stream",
     "text": [
      "(47, 45, 48, 8, 5)\n"
     ]
    }
   ],
   "source": [
    "a = (47,48,45,46,48,4,8,7,5,9)\n",
    "print(a[::2])"
   ]
  },
  {
   "cell_type": "markdown",
   "id": "f9fc240e",
   "metadata": {},
   "source": [
    "# reverse tuple"
   ]
  },
  {
   "cell_type": "code",
   "execution_count": 20,
   "id": "c0ad39ff",
   "metadata": {},
   "outputs": [
    {
     "name": "stdout",
     "output_type": "stream",
     "text": [
      "(9, 5, 7, 8, 4, 48, 46, 45, 48, 47)\n"
     ]
    }
   ],
   "source": [
    "a = (47,48,45,46,48,4,8,7,5,9)\n",
    "print(a[::-1])"
   ]
  },
  {
   "cell_type": "code",
   "execution_count": 21,
   "id": "dfc3a531",
   "metadata": {},
   "outputs": [
    {
     "name": "stdout",
     "output_type": "stream",
     "text": [
      "(1, 2, 3, 4, 5, 6, 7, 8, 9)\n",
      "(4, 5, 6, 7, 8, 9)\n",
      "(1, 2, 3, 4)\n",
      "()\n"
     ]
    }
   ],
   "source": [
    "t = (1,2,3,4,5,6,7,8,9)\n",
    "print(t[::])\n",
    "print(t[3:])\n",
    "print(t[:4])\n",
    "print(t[-2:-5])"
   ]
  },
  {
   "cell_type": "markdown",
   "id": "a3ace66a",
   "metadata": {},
   "source": [
    "# adding element to tuple by converting to list"
   ]
  },
  {
   "cell_type": "code",
   "execution_count": 23,
   "id": "78b1ce03",
   "metadata": {},
   "outputs": [
    {
     "name": "stdout",
     "output_type": "stream",
     "text": [
      "(1, 2, 3, 4, 5, 6, 7, 8, 9, 10)\n"
     ]
    }
   ],
   "source": [
    "a = (1,2,3,4,5,6,7,8,9)\n",
    "b = list(a) #converting tuple to list\n",
    "b.append(10)\n",
    "a = tuple(b)\n",
    "print(a)"
   ]
  },
  {
   "cell_type": "markdown",
   "id": "dff77d86",
   "metadata": {},
   "source": [
    "# removing element from tuple by converting to list"
   ]
  },
  {
   "cell_type": "code",
   "execution_count": 24,
   "id": "c6c61c97",
   "metadata": {},
   "outputs": [
    {
     "name": "stdout",
     "output_type": "stream",
     "text": [
      "(1, 2, 3, 4, 5, 6, 7, 9)\n"
     ]
    }
   ],
   "source": [
    "a = (1,2,3,4,5,6,7,8,9)\n",
    "b = list(a) #converting tuple to list\n",
    "b.remove(8)\n",
    "a = tuple(b)\n",
    "print(a)"
   ]
  },
  {
   "cell_type": "markdown",
   "id": "9f0afe2f",
   "metadata": {},
   "source": [
    "# delete function"
   ]
  },
  {
   "cell_type": "code",
   "execution_count": 28,
   "id": "e82b8172",
   "metadata": {},
   "outputs": [],
   "source": [
    "a = (1,2,3,4,5,6,7,8,9)\n",
    "del a"
   ]
  },
  {
   "cell_type": "code",
   "execution_count": 29,
   "id": "17028983",
   "metadata": {},
   "outputs": [
    {
     "ename": "NameError",
     "evalue": "name 'a' is not defined",
     "output_type": "error",
     "traceback": [
      "\u001b[1;31m---------------------------------------------------------------------------\u001b[0m",
      "\u001b[1;31mNameError\u001b[0m                                 Traceback (most recent call last)",
      "Cell \u001b[1;32mIn[29], line 1\u001b[0m\n\u001b[1;32m----> 1\u001b[0m \u001b[38;5;28mprint\u001b[39m(a)\n",
      "\u001b[1;31mNameError\u001b[0m: name 'a' is not defined"
     ]
    }
   ],
   "source": [
    "print(a)"
   ]
  },
  {
   "cell_type": "markdown",
   "id": "4c9f8c45",
   "metadata": {},
   "source": [
    "# loop"
   ]
  },
  {
   "cell_type": "code",
   "execution_count": 31,
   "id": "5ca3c81b",
   "metadata": {},
   "outputs": [
    {
     "name": "stdout",
     "output_type": "stream",
     "text": [
      "a\n",
      "b\n",
      "c\n"
     ]
    }
   ],
   "source": [
    "thistuple = (\"a\",\"b\",\"c\")\n",
    "for x in thistuple:\n",
    "    print(x)"
   ]
  },
  {
   "cell_type": "markdown",
   "id": "1c8dc1dd",
   "metadata": {},
   "source": [
    "# join two tuple"
   ]
  },
  {
   "cell_type": "code",
   "execution_count": 32,
   "id": "148b78f8",
   "metadata": {},
   "outputs": [
    {
     "name": "stdout",
     "output_type": "stream",
     "text": [
      "('a', 'b', 'c', 'a', 'b', 'c')\n"
     ]
    }
   ],
   "source": [
    "x = (\"a\",\"b\",\"c\")\n",
    "y = (\"a\",\"b\",\"c\")\n",
    "print(x+y)"
   ]
  },
  {
   "cell_type": "markdown",
   "id": "7db6ce9d",
   "metadata": {},
   "source": [
    "# multiply two tuples"
   ]
  },
  {
   "cell_type": "code",
   "execution_count": 33,
   "id": "626f06b0",
   "metadata": {},
   "outputs": [
    {
     "name": "stdout",
     "output_type": "stream",
     "text": [
      "('a', 'b', 'c', 'a', 'b', 'c', 'a', 'b', 'c')\n"
     ]
    }
   ],
   "source": [
    "x = (\"a\",\"b\",\"c\")\n",
    "print(x*3)"
   ]
  },
  {
   "cell_type": "code",
   "execution_count": 34,
   "id": "c505a743",
   "metadata": {},
   "outputs": [
    {
     "name": "stdout",
     "output_type": "stream",
     "text": [
      "(1, 2, 3, 4, 5, 6, 7, 8, 1, 2, 3, 4, 5, 6, 7, 8)\n",
      "(1, 2, 3, 4, 5, 6, 7, 8, 1, 2, 3, 4, 5, 6, 7, 8, 1, 2, 3, 4, 5, 6, 7, 8)\n",
      "(1, 2, 3, 4, 5, 6, 7, 8, 1, 2, 3, 4, 5, 6, 7, 8)\n",
      "8\n"
     ]
    }
   ],
   "source": [
    "t = (1,2,3,4,5,6,7,8)\n",
    "print(t*2)\n",
    "print(t+t+t)\n",
    "print(t+t)\n",
    "print(len(t))"
   ]
  },
  {
   "cell_type": "markdown",
   "id": "c18a7ae7",
   "metadata": {},
   "source": [
    "# write a program to take 5input from user and store it in tuple"
   ]
  },
  {
   "cell_type": "code",
   "execution_count": 47,
   "id": "4a02ee26",
   "metadata": {},
   "outputs": [
    {
     "name": "stdout",
     "output_type": "stream",
     "text": [
      "enter 5 input 1\n",
      "enter 5 input 2\n",
      "enter 5 input 3\n",
      "enter 5 input 4\n",
      "enter 5 input 5\n",
      "('1', '2', '3', '4', '5')\n",
      "<class 'tuple'>\n"
     ]
    }
   ],
   "source": [
    "mytuple = ()\n",
    "for i in range(5):\n",
    "    a = input(\"enter 5 input \")\n",
    "    mytuple = mytuple + (a,)\n",
    "    i = i+1\n",
    "print(mytuple)\n",
    "print(type(mytuple))"
   ]
  },
  {
   "cell_type": "code",
   "execution_count": null,
   "id": "6a3b4b4a",
   "metadata": {},
   "outputs": [],
   "source": [
    "3\n"
   ]
  }
 ],
 "metadata": {
  "kernelspec": {
   "display_name": "Python 3 (ipykernel)",
   "language": "python",
   "name": "python3"
  },
  "language_info": {
   "codemirror_mode": {
    "name": "ipython",
    "version": 3
   },
   "file_extension": ".py",
   "mimetype": "text/x-python",
   "name": "python",
   "nbconvert_exporter": "python",
   "pygments_lexer": "ipython3",
   "version": "3.11.5"
  }
 },
 "nbformat": 4,
 "nbformat_minor": 5
}
