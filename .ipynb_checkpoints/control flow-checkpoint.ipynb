{
 "cells": [
  {
   "cell_type": "markdown",
   "id": "2d92d5d5",
   "metadata": {},
   "source": [
    "# Day 4 "
   ]
  },
  {
   "cell_type": "markdown",
   "id": "a8eb1041",
   "metadata": {},
   "source": [
    "Control flow\n"
   ]
  },
  {
   "cell_type": "markdown",
   "id": "852c11f0",
   "metadata": {},
   "source": [
    "if-elif-else"
   ]
  },
  {
   "cell_type": "code",
   "execution_count": 10,
   "id": "a8506303",
   "metadata": {},
   "outputs": [
    {
     "name": "stdout",
     "output_type": "stream",
     "text": [
      "mark is  0\n"
     ]
    }
   ],
   "source": [
    "time = 31\n",
    "mark = 100\n",
    "if(time<=10):\n",
    "    print( \"mark is \" , mark-10)\n",
    "elif(time>10 and time<=30):\n",
    "    print( \"mark is \" , mark-30)\n",
    "else:\n",
    "    print( \"mark is \" , mark -100)"
   ]
  },
  {
   "cell_type": "markdown",
   "id": "a7e44a7a",
   "metadata": {},
   "source": [
    "# if condition"
   ]
  },
  {
   "cell_type": "markdown",
   "id": "d70197f6",
   "metadata": {},
   "source": [
    "write a program to calculate the percentage of a studentin the subjects maths, science ,social, eng and nepali"
   ]
  },
  {
   "cell_type": "code",
   "execution_count": 15,
   "id": "7ff05374",
   "metadata": {},
   "outputs": [
    {
     "name": "stdout",
     "output_type": "stream",
     "text": [
      "What's your name?rasmi\n",
      "mark for english78\n",
      "mark for nepali85\n",
      "mark for math98\n",
      "mark for science65\n",
      "mark for social52\n",
      "percentage :  75.6\n"
     ]
    }
   ],
   "source": [
    "name = input(\"What's your name?\")\n",
    "a = int(input(\"mark for english\"))\n",
    "b = int(input(\"mark for nepali\"))\n",
    "c = int(input(\"mark for math\"))\n",
    "d = int(input(\"mark for science\"))\n",
    "e = int(input(\"mark for social\"))\n",
    "n = ((a+b+c+d+e)/500)*100\n",
    "print(\"percentage : \" , n )"
   ]
  },
  {
   "cell_type": "code",
   "execution_count": 17,
   "id": "128ee775",
   "metadata": {},
   "outputs": [
    {
     "name": "stdout",
     "output_type": "stream",
     "text": [
      "Enter percentage 80\n",
      "B Grade\n"
     ]
    }
   ],
   "source": [
    "a = int(input(\"Enter percentage \"))\n",
    "if a>=90:\n",
    "    print(\"A Grade\")\n",
    "elif a>=75 and a<90:\n",
    "    print(\"B Grade\")\n",
    "elif(a>=35 and a<75):\n",
    "    print(\"C Grade\")\n",
    "else:\n",
    "    print(\"D Grade\")\n"
   ]
  },
  {
   "cell_type": "code",
   "execution_count": null,
   "id": "aaf934fb",
   "metadata": {},
   "outputs": [],
   "source": []
  }
 ],
 "metadata": {
  "kernelspec": {
   "display_name": "Python 3 (ipykernel)",
   "language": "python",
   "name": "python3"
  },
  "language_info": {
   "codemirror_mode": {
    "name": "ipython",
    "version": 3
   },
   "file_extension": ".py",
   "mimetype": "text/x-python",
   "name": "python",
   "nbconvert_exporter": "python",
   "pygments_lexer": "ipython3",
   "version": "3.11.5"
  }
 },
 "nbformat": 4,
 "nbformat_minor": 5
}
