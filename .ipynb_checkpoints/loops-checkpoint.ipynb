{
 "cells": [
  {
   "cell_type": "markdown",
   "id": "14bdf1ab",
   "metadata": {},
   "source": [
    "# day 5"
   ]
  },
  {
   "cell_type": "markdown",
   "id": "395dc027",
   "metadata": {},
   "source": [
    "loops"
   ]
  },
  {
   "cell_type": "markdown",
   "id": "02afd5ca",
   "metadata": {},
   "source": [
    "# while loop"
   ]
  },
  {
   "cell_type": "markdown",
   "id": "91f5ddc9",
   "metadata": {},
   "source": [
    "program to display number from 1 to 200"
   ]
  },
  {
   "cell_type": "code",
   "execution_count": 3,
   "id": "210a95a4",
   "metadata": {},
   "outputs": [
    {
     "name": "stdout",
     "output_type": "stream",
     "text": [
      "1\n",
      "2\n",
      "3\n",
      "4\n",
      "5\n"
     ]
    }
   ],
   "source": [
    "i = 1\n",
    "n = 5\n",
    "while i<=n:\n",
    "    print(i)\n",
    "    i=i+1"
   ]
  },
  {
   "cell_type": "markdown",
   "id": "9ba9a238",
   "metadata": {},
   "source": [
    "# program to create multiplication table of number provided by user"
   ]
  },
  {
   "cell_type": "code",
   "execution_count": 7,
   "id": "364e2e3c",
   "metadata": {},
   "outputs": [
    {
     "name": "stdout",
     "output_type": "stream",
     "text": [
      "Enter a number : 2\n",
      "2\n",
      "4\n",
      "6\n",
      "8\n",
      "10\n",
      "12\n",
      "14\n",
      "16\n",
      "18\n",
      "20\n"
     ]
    }
   ],
   "source": [
    "a = int(input(\"Enter a number : \"))\n",
    "i=1\n",
    "while i<=10:\n",
    "    print(a*i)\n",
    "    i = i+1"
   ]
  },
  {
   "cell_type": "code",
   "execution_count": null,
   "id": "2b5b930b",
   "metadata": {},
   "outputs": [],
   "source": []
  }
 ],
 "metadata": {
  "kernelspec": {
   "display_name": "Python 3 (ipykernel)",
   "language": "python",
   "name": "python3"
  },
  "language_info": {
   "codemirror_mode": {
    "name": "ipython",
    "version": 3
   },
   "file_extension": ".py",
   "mimetype": "text/x-python",
   "name": "python",
   "nbconvert_exporter": "python",
   "pygments_lexer": "ipython3",
   "version": "3.11.5"
  }
 },
 "nbformat": 4,
 "nbformat_minor": 5
}
