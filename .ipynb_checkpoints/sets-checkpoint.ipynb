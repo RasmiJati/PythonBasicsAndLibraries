{
 "cells": [
  {
   "cell_type": "markdown",
   "id": "5f5e98f5",
   "metadata": {},
   "source": [
    "# day 11"
   ]
  },
  {
   "cell_type": "markdown",
   "id": "c936b867",
   "metadata": {},
   "source": [
    "sets"
   ]
  },
  {
   "cell_type": "markdown",
   "id": "617815ed",
   "metadata": {},
   "source": [
    "# creating set"
   ]
  },
  {
   "cell_type": "code",
   "execution_count": 1,
   "id": "3707b623",
   "metadata": {},
   "outputs": [
    {
     "name": "stdout",
     "output_type": "stream",
     "text": [
      "{'cat', 'animals', 'ball'}\n",
      "<class 'set'>\n"
     ]
    }
   ],
   "source": [
    "a = {\"animals\" , \"ball\" ,\"cat\"}\n",
    "print(a)\n",
    "print(type(a))"
   ]
  },
  {
   "cell_type": "markdown",
   "id": "5107f36b",
   "metadata": {},
   "source": [
    "# duplicates not allowed"
   ]
  },
  {
   "cell_type": "code",
   "execution_count": 2,
   "id": "3956e0cf",
   "metadata": {},
   "outputs": [
    {
     "name": "stdout",
     "output_type": "stream",
     "text": [
      "{'cat', 'animals', 'ball'}\n"
     ]
    }
   ],
   "source": [
    "a = {\"animals\" , \"ball\" ,\"cat\", \"ball\" ,\"cat\"}\n",
    "print(a)"
   ]
  },
  {
   "cell_type": "markdown",
   "id": "201f04d4",
   "metadata": {},
   "source": [
    "# true and 1 is considered same"
   ]
  },
  {
   "cell_type": "code",
   "execution_count": 3,
   "id": "4cd7a4d4",
   "metadata": {},
   "outputs": [
    {
     "name": "stdout",
     "output_type": "stream",
     "text": [
      "{'cat', 1, 2, 'animals', 'ball'}\n"
     ]
    }
   ],
   "source": [
    "\n",
    "a = {\"animals\" , \"ball\" ,\"cat\",1,2,True}\n",
    "print(a)"
   ]
  },
  {
   "cell_type": "markdown",
   "id": "92d41d29",
   "metadata": {},
   "source": [
    "# length"
   ]
  },
  {
   "cell_type": "code",
   "execution_count": 5,
   "id": "8b407b20",
   "metadata": {},
   "outputs": [
    {
     "name": "stdout",
     "output_type": "stream",
     "text": [
      "5\n"
     ]
    }
   ],
   "source": [
    "a = {\"animals\" , \"ball\" ,\"cat\",\"cat\",1,2,True}\n",
    "print(len(a))"
   ]
  },
  {
   "cell_type": "markdown",
   "id": "eeee422a",
   "metadata": {},
   "source": [
    "# set items -data types"
   ]
  },
  {
   "cell_type": "code",
   "execution_count": 6,
   "id": "cb032d77",
   "metadata": {},
   "outputs": [
    {
     "name": "stdout",
     "output_type": "stream",
     "text": [
      "{1, 2, 3, 4} {1.1, 2.3, 3.5} {'abc', 'def'} {False, True}\n"
     ]
    }
   ],
   "source": [
    "x1 = {1,2,3,4}\n",
    "x2 = {1.1,2.3,3.5}\n",
    "x3 = {\"abc\",\"def\"}\n",
    "x4 = {True,False,True}\n",
    "print(x1,x2,x3,x4)"
   ]
  },
  {
   "cell_type": "code",
   "execution_count": 8,
   "id": "3b38542d",
   "metadata": {},
   "outputs": [
    {
     "name": "stdout",
     "output_type": "stream",
     "text": [
      "{True, 2, 52.3, 'apple'}\n"
     ]
    }
   ],
   "source": [
    "m= {2,52.3,\"apple\",True}\n",
    "print(m)"
   ]
  },
  {
   "cell_type": "markdown",
   "id": "592c301e",
   "metadata": {},
   "source": [
    "# list and dictionary can't be passed to set cause list is ordered"
   ]
  },
  {
   "cell_type": "code",
   "execution_count": 10,
   "id": "fdfa6cd6",
   "metadata": {},
   "outputs": [
    {
     "ename": "TypeError",
     "evalue": "unhashable type: 'list'",
     "output_type": "error",
     "traceback": [
      "\u001b[1;31m---------------------------------------------------------------------------\u001b[0m",
      "\u001b[1;31mTypeError\u001b[0m                                 Traceback (most recent call last)",
      "Cell \u001b[1;32mIn[10], line 1\u001b[0m\n\u001b[1;32m----> 1\u001b[0m x5 \u001b[38;5;241m=\u001b[39m {[\u001b[38;5;241m1\u001b[39m,\u001b[38;5;241m2\u001b[39m,\u001b[38;5;241m3\u001b[39m,\u001b[38;5;241m4\u001b[39m]}\n\u001b[0;32m      2\u001b[0m \u001b[38;5;28mprint\u001b[39m(x5)\n",
      "\u001b[1;31mTypeError\u001b[0m: unhashable type: 'list'"
     ]
    }
   ],
   "source": [
    "x5 = {[1,2,3,4]}\n",
    "print(x5)"
   ]
  },
  {
   "cell_type": "markdown",
   "id": "54bb7865",
   "metadata": {},
   "source": [
    "# tuple passed to set caused unordered"
   ]
  },
  {
   "cell_type": "code",
   "execution_count": 11,
   "id": "612689af",
   "metadata": {},
   "outputs": [
    {
     "name": "stdout",
     "output_type": "stream",
     "text": [
      "{(1, 2, 3, 4)}\n"
     ]
    }
   ],
   "source": [
    "x5 = {(1,2,3,4)}\n",
    "print(x5)"
   ]
  },
  {
   "cell_type": "markdown",
   "id": "7dc15945",
   "metadata": {},
   "source": [
    "# nesting is not property of set"
   ]
  },
  {
   "cell_type": "code",
   "execution_count": 12,
   "id": "221872a4",
   "metadata": {},
   "outputs": [
    {
     "ename": "TypeError",
     "evalue": "unhashable type: 'set'",
     "output_type": "error",
     "traceback": [
      "\u001b[1;31m---------------------------------------------------------------------------\u001b[0m",
      "\u001b[1;31mTypeError\u001b[0m                                 Traceback (most recent call last)",
      "Cell \u001b[1;32mIn[12], line 1\u001b[0m\n\u001b[1;32m----> 1\u001b[0m x5 \u001b[38;5;241m=\u001b[39m {{\u001b[38;5;241m1\u001b[39m,\u001b[38;5;241m2\u001b[39m,\u001b[38;5;241m3\u001b[39m,\u001b[38;5;241m4\u001b[39m},{\u001b[38;5;241m5\u001b[39m,\u001b[38;5;241m6\u001b[39m,\u001b[38;5;241m7\u001b[39m}}\n\u001b[0;32m      2\u001b[0m \u001b[38;5;28mprint\u001b[39m(x5)\n",
      "\u001b[1;31mTypeError\u001b[0m: unhashable type: 'set'"
     ]
    }
   ],
   "source": [
    "x5 = {{1,2,3,4},{5,6,7}}\n",
    "print(x5)"
   ]
  },
  {
   "cell_type": "markdown",
   "id": "a5979edb",
   "metadata": {},
   "source": [
    "# set constructor"
   ]
  },
  {
   "cell_type": "code",
   "execution_count": 15,
   "id": "fd3835a0",
   "metadata": {},
   "outputs": [
    {
     "name": "stdout",
     "output_type": "stream",
     "text": [
      "{'gamma', 'alpha', 'beta'}\n",
      "<class 'set'>\n"
     ]
    }
   ],
   "source": [
    "myset = set((\"alpha\",\"beta\",\"gamma\"))\n",
    "print(myset)\n",
    "print(type(myset))"
   ]
  },
  {
   "cell_type": "markdown",
   "id": "035faf85",
   "metadata": {},
   "source": [
    "# empty set"
   ]
  },
  {
   "cell_type": "code",
   "execution_count": 18,
   "id": "9d2bf96d",
   "metadata": {},
   "outputs": [
    {
     "name": "stdout",
     "output_type": "stream",
     "text": [
      "set()\n",
      "<class 'set'>\n"
     ]
    }
   ],
   "source": [
    "a = set()\n",
    "print(a)\n",
    "print(type(a))"
   ]
  },
  {
   "cell_type": "markdown",
   "id": "c12068eb",
   "metadata": {},
   "source": [
    "# accessing"
   ]
  },
  {
   "cell_type": "code",
   "execution_count": 19,
   "id": "09aedefc",
   "metadata": {},
   "outputs": [
    {
     "name": "stdout",
     "output_type": "stream",
     "text": [
      "c\n",
      "b\n",
      "a\n"
     ]
    }
   ],
   "source": [
    "a = {\"a\",\"b\",\"c\"}\n",
    "for i in a:\n",
    "    print(i)"
   ]
  },
  {
   "cell_type": "markdown",
   "id": "c94a6477",
   "metadata": {},
   "source": [
    "# check if item is in set or not"
   ]
  },
  {
   "cell_type": "code",
   "execution_count": 21,
   "id": "72c2814d",
   "metadata": {},
   "outputs": [
    {
     "name": "stdout",
     "output_type": "stream",
     "text": [
      "True\n",
      "False\n"
     ]
    }
   ],
   "source": [
    "a = {\"data\",\"python\",\"code\"}\n",
    "print(\"code\" in a)\n",
    "print(\"cod\" in a)"
   ]
  },
  {
   "cell_type": "markdown",
   "id": "c1ba1f64",
   "metadata": {},
   "source": [
    "# Add items in set"
   ]
  },
  {
   "cell_type": "code",
   "execution_count": 22,
   "id": "d1bc26bb",
   "metadata": {},
   "outputs": [
    {
     "name": "stdout",
     "output_type": "stream",
     "text": [
      "{'c', 'b', 100, 'a'}\n"
     ]
    }
   ],
   "source": [
    "a = {\"a\",\"b\",\"c\"}\n",
    "a.add(100)\n",
    "print(a)"
   ]
  },
  {
   "cell_type": "markdown",
   "id": "675cc318",
   "metadata": {},
   "source": [
    "# add entire set in another set"
   ]
  },
  {
   "cell_type": "code",
   "execution_count": 23,
   "id": "61b8b6ed",
   "metadata": {},
   "outputs": [
    {
     "name": "stdout",
     "output_type": "stream",
     "text": [
      "{'e', 'd', 'a', 'c', 'f', 'b'}\n"
     ]
    }
   ],
   "source": [
    "a = {\"a\",\"b\",\"c\"}\n",
    "b = {\"d\",\"e\",\"f\"}\n",
    "a.update(b)\n",
    "print(a)"
   ]
  },
  {
   "cell_type": "markdown",
   "id": "3f2920bf",
   "metadata": {},
   "source": [
    "# remove item"
   ]
  },
  {
   "cell_type": "code",
   "execution_count": 24,
   "id": "c48abbd6",
   "metadata": {},
   "outputs": [
    {
     "name": "stdout",
     "output_type": "stream",
     "text": [
      "{'b', 'd', 'a'}\n"
     ]
    }
   ],
   "source": [
    "a = {\"a\",\"b\",\"c\",\"d\"}\n",
    "a.remove(\"c\")\n",
    "print(a)"
   ]
  },
  {
   "cell_type": "code",
   "execution_count": 26,
   "id": "2ba86c4a",
   "metadata": {},
   "outputs": [
    {
     "name": "stdout",
     "output_type": "stream",
     "text": [
      "{'d', 'a', 'c', 'f', 'b'}\n"
     ]
    }
   ],
   "source": [
    "a = {\"a\",\"b\",\"c\",\"d\",\"e\",\"f\"}\n",
    "a.pop()\n",
    "print(a)"
   ]
  },
  {
   "cell_type": "code",
   "execution_count": 27,
   "id": "d5288398",
   "metadata": {},
   "outputs": [
    {
     "name": "stdout",
     "output_type": "stream",
     "text": [
      "set()\n"
     ]
    }
   ],
   "source": [
    "a = {\"a\",\"b\",\"c\",\"d\",\"e\",\"f\"}\n",
    "a.clear()\n",
    "print(a)"
   ]
  },
  {
   "cell_type": "code",
   "execution_count": 28,
   "id": "cac59fb4",
   "metadata": {},
   "outputs": [
    {
     "ename": "NameError",
     "evalue": "name 'a' is not defined",
     "output_type": "error",
     "traceback": [
      "\u001b[1;31m---------------------------------------------------------------------------\u001b[0m",
      "\u001b[1;31mNameError\u001b[0m                                 Traceback (most recent call last)",
      "Cell \u001b[1;32mIn[28], line 3\u001b[0m\n\u001b[0;32m      1\u001b[0m a \u001b[38;5;241m=\u001b[39m {\u001b[38;5;124m\"\u001b[39m\u001b[38;5;124ma\u001b[39m\u001b[38;5;124m\"\u001b[39m,\u001b[38;5;124m\"\u001b[39m\u001b[38;5;124mb\u001b[39m\u001b[38;5;124m\"\u001b[39m,\u001b[38;5;124m\"\u001b[39m\u001b[38;5;124mc\u001b[39m\u001b[38;5;124m\"\u001b[39m,\u001b[38;5;124m\"\u001b[39m\u001b[38;5;124md\u001b[39m\u001b[38;5;124m\"\u001b[39m,\u001b[38;5;124m\"\u001b[39m\u001b[38;5;124me\u001b[39m\u001b[38;5;124m\"\u001b[39m,\u001b[38;5;124m\"\u001b[39m\u001b[38;5;124mf\u001b[39m\u001b[38;5;124m\"\u001b[39m}\n\u001b[0;32m      2\u001b[0m \u001b[38;5;28;01mdel\u001b[39;00m a\n\u001b[1;32m----> 3\u001b[0m \u001b[38;5;28mprint\u001b[39m(a)\n",
      "\u001b[1;31mNameError\u001b[0m: name 'a' is not defined"
     ]
    }
   ],
   "source": [
    "a = {\"a\",\"b\",\"c\",\"d\",\"e\",\"f\"}\n",
    "del a\n",
    "print(a)"
   ]
  },
  {
   "cell_type": "markdown",
   "id": "a7216755",
   "metadata": {},
   "source": [
    "# join two sets"
   ]
  },
  {
   "cell_type": "code",
   "execution_count": 29,
   "id": "2ca2abd8",
   "metadata": {},
   "outputs": [
    {
     "name": "stdout",
     "output_type": "stream",
     "text": [
      "{'e', 'd', 'a', 'c', 'f', 'b'}\n"
     ]
    }
   ],
   "source": [
    "a = {\"a\",\"b\",\"c\"}\n",
    "b = {\"d\",\"e\",\"f\"}\n",
    "c = a.union(b)\n",
    "print(c)"
   ]
  },
  {
   "cell_type": "markdown",
   "id": "b2e7c31b",
   "metadata": {},
   "source": [
    "# program to find max and min value"
   ]
  },
  {
   "cell_type": "code",
   "execution_count": 30,
   "id": "03b393f2",
   "metadata": {},
   "outputs": [
    {
     "name": "stdout",
     "output_type": "stream",
     "text": [
      "original  {3, 4, 5, 6, 20, 9, 10}\n",
      "max  20\n",
      "min  3\n"
     ]
    }
   ],
   "source": [
    "a = {10,5,3,6,9,20,4}\n",
    "print(\"original \" ,a)\n",
    "print(\"max \" , max(a))\n",
    "print(\"min \" , min(a))"
   ]
  },
  {
   "cell_type": "markdown",
   "id": "e729497d",
   "metadata": {},
   "source": [
    "# return new set of identical items"
   ]
  },
  {
   "cell_type": "code",
   "execution_count": 31,
   "id": "9f333022",
   "metadata": {},
   "outputs": [
    {
     "name": "stdout",
     "output_type": "stream",
     "text": [
      "{9, 3, 20}\n"
     ]
    }
   ],
   "source": [
    "a = {10,5,3,6,9,20,4}\n",
    "b = {20,3,8,9,52,62,1}\n",
    "print(a.intersection(b))"
   ]
  },
  {
   "cell_type": "code",
   "execution_count": 33,
   "id": "b2a18a11",
   "metadata": {},
   "outputs": [
    {
     "name": "stdout",
     "output_type": "stream",
     "text": [
      "7\n",
      "20\n",
      "3\n",
      "(3, 4, 5, 6, 20, 9, 10)\n",
      "<class 'tuple'>\n",
      "[3, 4, 5, 6, 20, 9, 10]\n",
      "<class 'list'>\n"
     ]
    }
   ],
   "source": [
    "a = {10,5,3,6,9,20,4}\n",
    "print(len(a))\n",
    "print(max(a))\n",
    "print(min(a))\n",
    "mytuple = tuple(a)\n",
    "print(mytuple)\n",
    "print(type(mytuple))\n",
    "mylist = list(a)\n",
    "print(mylist)\n",
    "print(type(mylist))\n"
   ]
  },
  {
   "cell_type": "code",
   "execution_count": null,
   "id": "c7fbed9a",
   "metadata": {},
   "outputs": [],
   "source": []
  }
 ],
 "metadata": {
  "kernelspec": {
   "display_name": "Python 3 (ipykernel)",
   "language": "python",
   "name": "python3"
  },
  "language_info": {
   "codemirror_mode": {
    "name": "ipython",
    "version": 3
   },
   "file_extension": ".py",
   "mimetype": "text/x-python",
   "name": "python",
   "nbconvert_exporter": "python",
   "pygments_lexer": "ipython3",
   "version": "3.11.5"
  }
 },
 "nbformat": 4,
 "nbformat_minor": 5
}
