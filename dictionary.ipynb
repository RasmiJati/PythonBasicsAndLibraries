{
 "cells": [
  {
   "cell_type": "markdown",
   "id": "40dd83ea",
   "metadata": {},
   "source": [
    "# day 10"
   ]
  },
  {
   "cell_type": "markdown",
   "id": "ca39d16a",
   "metadata": {},
   "source": [
    "# dictionary"
   ]
  },
  {
   "cell_type": "markdown",
   "id": "1efdcca7",
   "metadata": {},
   "source": [
    "# creating a dictitionary"
   ]
  },
  {
   "cell_type": "code",
   "execution_count": 2,
   "id": "1e33e24b",
   "metadata": {},
   "outputs": [
    {
     "name": "stdout",
     "output_type": "stream",
     "text": [
      "{'ID ': '123ab', 'Name ': 'abc', 'Address': 'bkt'}\n"
     ]
    }
   ],
   "source": [
    "a = {\n",
    "    \"ID \" : \"123ab\",\n",
    "    \"Name\": \"abc\",\n",
    "    \"Address\" : \"bkt\"\n",
    "}\n",
    "print(a)"
   ]
  },
  {
   "cell_type": "code",
   "execution_count": 6,
   "id": "3a49359b",
   "metadata": {},
   "outputs": [
    {
     "name": "stdout",
     "output_type": "stream",
     "text": [
      "abc\n"
     ]
    }
   ],
   "source": [
    "a = {\n",
    "    \"ID \" : \"123ab\",\n",
    "    \"Name\": \"abc\",\n",
    "    \"Address\" : \"bkt\"\n",
    "}\n",
    "print(a[\"Name\"])"
   ]
  },
  {
   "cell_type": "markdown",
   "id": "48e8f749",
   "metadata": {},
   "source": [
    "# duplicates not allow"
   ]
  },
  {
   "cell_type": "code",
   "execution_count": 8,
   "id": "6487348c",
   "metadata": {},
   "outputs": [
    {
     "name": "stdout",
     "output_type": "stream",
     "text": [
      "{'ID ': '123ab', 'Name': 'abc', 'Address': 'ktm'}\n"
     ]
    }
   ],
   "source": [
    "a = {\n",
    "    \"ID \" : \"123ab\",\n",
    "    \"Name\": \"abc\",\n",
    "    \"Address\" : \"bkt\",\n",
    "    \"Address\" :\"ktm\"\n",
    "}\n",
    "print(a)"
   ]
  },
  {
   "cell_type": "markdown",
   "id": "ef0b01c9",
   "metadata": {},
   "source": [
    "# length"
   ]
  },
  {
   "cell_type": "code",
   "execution_count": 10,
   "id": "4112190e",
   "metadata": {},
   "outputs": [
    {
     "name": "stdout",
     "output_type": "stream",
     "text": [
      "3\n"
     ]
    }
   ],
   "source": [
    "a = {\n",
    "    \"ID \" : \"123ab\",\n",
    "    \"Name\": \"abc\",\n",
    "    \"Address\" : \"bkt\"\n",
    "}\n",
    "print(len(a))"
   ]
  },
  {
   "cell_type": "code",
   "execution_count": 13,
   "id": "26511bab",
   "metadata": {},
   "outputs": [
    {
     "name": "stdout",
     "output_type": "stream",
     "text": [
      "{'ID ': '123ab', 'Name': 'abc', 'Address': 'bkt', 'b': [1, 2, 3, 4, 5], 'c': (5, 6, 7, 8, 9), 'd': {'ID ': '123ab', 'Name': 'abc', 'Address': 'bkt'}, 'e': False}\n"
     ]
    }
   ],
   "source": [
    "a = {\n",
    "    \"ID \" : \"123ab\",\n",
    "    \"Name\": \"abc\",\n",
    "    \"Address\" : \"bkt\",\n",
    "    \"b\" : [1,2,3,4,5],\n",
    "    \"c\" : (5,6,7,8,9),\n",
    "    \"d\" : {\n",
    "         \"ID \" : \"123ab\",\n",
    "    \"Name\": \"abc\",\n",
    "    \"Address\" : \"bkt\"\n",
    "    },\n",
    "    \"e\" : False\n",
    "}\n",
    "print(a)"
   ]
  },
  {
   "cell_type": "markdown",
   "id": "fd5da69c",
   "metadata": {},
   "source": [
    "# dict constructor"
   ]
  },
  {
   "cell_type": "code",
   "execution_count": 16,
   "id": "961006ba",
   "metadata": {},
   "outputs": [
    {
     "name": "stdout",
     "output_type": "stream",
     "text": [
      "{'name': 'abc', 'age': 17, 'country': 'nepal'}\n",
      "<class 'dict'>\n"
     ]
    }
   ],
   "source": [
    "a = dict(name = \"abc\", age = 17,country=\"nepal\")\n",
    "print(a)\n",
    "print(type(a))"
   ]
  },
  {
   "cell_type": "markdown",
   "id": "463d3035",
   "metadata": {},
   "source": [
    "# accessing"
   ]
  },
  {
   "cell_type": "code",
   "execution_count": 19,
   "id": "9840e54a",
   "metadata": {},
   "outputs": [
    {
     "name": "stdout",
     "output_type": "stream",
     "text": [
      "priya\n"
     ]
    }
   ],
   "source": [
    "a = {\"name\":\"priya\", \"age\" : 20,\"country\" : \"nepal\"}\n",
    "print(a[\"name\"])"
   ]
  },
  {
   "cell_type": "code",
   "execution_count": 20,
   "id": "d7e5a060",
   "metadata": {},
   "outputs": [
    {
     "name": "stdout",
     "output_type": "stream",
     "text": [
      "priya\n"
     ]
    }
   ],
   "source": [
    "#get method\n",
    "a = {\"name\":\"priya\", \"age\" : 20,\"country\" : \"nepal\"}\n",
    "print(a.get(\"name\"))"
   ]
  },
  {
   "cell_type": "code",
   "execution_count": 21,
   "id": "62fd799d",
   "metadata": {},
   "outputs": [
    {
     "name": "stdout",
     "output_type": "stream",
     "text": [
      "dict_keys(['name', 'age', 'country'])\n"
     ]
    }
   ],
   "source": [
    "#to know keys name\n",
    "a = {\"name\":\"priya\", \"age\" : 20,\"country\" : \"nepal\"}\n",
    "x = a.keys()\n",
    "print(x)"
   ]
  },
  {
   "cell_type": "code",
   "execution_count": 22,
   "id": "66db4fc3",
   "metadata": {},
   "outputs": [
    {
     "name": "stdout",
     "output_type": "stream",
     "text": [
      "dict_values(['priya', 20, 'nepal'])\n"
     ]
    }
   ],
   "source": [
    "#to know values name\n",
    "a = {\"name\":\"priya\", \"age\" : 20,\"country\" : \"nepal\"}\n",
    "x = a.values()\n",
    "print(x)"
   ]
  },
  {
   "cell_type": "markdown",
   "id": "a604a373",
   "metadata": {},
   "source": [
    "# change values "
   ]
  },
  {
   "cell_type": "code",
   "execution_count": 24,
   "id": "c1c8c84e",
   "metadata": {},
   "outputs": [
    {
     "name": "stdout",
     "output_type": "stream",
     "text": [
      "{'name': 'priya', 'age': 22, 'country': 'nepal'}\n"
     ]
    }
   ],
   "source": [
    "#change value\n",
    "a = {\"name\":\"priya\", \"age\" : 20,\"country\" : \"nepal\"}\n",
    "a[\"age\"] = 22\n",
    "print(a)"
   ]
  },
  {
   "cell_type": "code",
   "execution_count": 26,
   "id": "77ff85fb",
   "metadata": {},
   "outputs": [
    {
     "name": "stdout",
     "output_type": "stream",
     "text": [
      "{'name': 'priya', 'age': 20, 'country': 'nepal', 'gender': 'female'}\n"
     ]
    }
   ],
   "source": [
    "#to add new items\n",
    "a = {\"name\":\"priya\", \"age\" : 20,\"country\" : \"nepal\",\"gender\":\"female\"}\n",
    "print(a)\n"
   ]
  },
  {
   "cell_type": "code",
   "execution_count": 27,
   "id": "b0302cdf",
   "metadata": {},
   "outputs": [
    {
     "name": "stdout",
     "output_type": "stream",
     "text": [
      "{'name': 'priya', 'age': 20, 'country': 'nepal', 'gender': 'female', 'email': 'abc@gmail.com'}\n"
     ]
    }
   ],
   "source": [
    "#update methos\n",
    "a = {\"name\":\"priya\", \"age\" : 20,\"country\" : \"nepal\",\"gender\":\"female\"}\n",
    "a.update({\"email\" : \"abc@gmail.com\"})\n",
    "print(a)"
   ]
  },
  {
   "cell_type": "code",
   "execution_count": 28,
   "id": "39fc6d3b",
   "metadata": {},
   "outputs": [
    {
     "name": "stdout",
     "output_type": "stream",
     "text": [
      "{'name': 'priya', 'age': 20, 'country': 'nepal'}\n"
     ]
    }
   ],
   "source": [
    "#remove items using pop()\n",
    "a = {\"name\":\"priya\", \"age\" : 20,\"country\" : \"nepal\",\"gender\":\"female\"}\n",
    "a.pop(\"gender\")\n",
    "print(a)\n"
   ]
  },
  {
   "cell_type": "code",
   "execution_count": 30,
   "id": "e12900f6",
   "metadata": {},
   "outputs": [
    {
     "name": "stdout",
     "output_type": "stream",
     "text": [
      "{'name': 'priya', 'age': 20, 'country': 'nepal'}\n"
     ]
    }
   ],
   "source": [
    "#delete method ( del )\n",
    "a = {\"name\":\"priya\", \"age\" : 20,\"country\" : \"nepal\",\"gender\":\"female\"}\n",
    "del a[\"gender\"]\n",
    "print(a)"
   ]
  },
  {
   "cell_type": "code",
   "execution_count": 31,
   "id": "a8ec1701",
   "metadata": {},
   "outputs": [
    {
     "name": "stdout",
     "output_type": "stream",
     "text": [
      "{}\n"
     ]
    }
   ],
   "source": [
    "#clear method\n",
    "a = {\"name\":\"priya\", \"age\" : 20,\"country\" : \"nepal\",\"gender\":\"female\"}\n",
    "a.clear()\n",
    "print(a)"
   ]
  },
  {
   "cell_type": "code",
   "execution_count": 36,
   "id": "9852134f",
   "metadata": {},
   "outputs": [
    {
     "name": "stdout",
     "output_type": "stream",
     "text": [
      "{1: 10, 2: 20, 3: 30, 4: 40, 5: 50, 6: 60}\n"
     ]
    }
   ],
   "source": [
    "#concatination\n",
    "# a = {\"1\":10,\"2\":20}\n",
    "# b = {\"3\":30,\"4\":40}\n",
    "# c = {\"5\":50,\"6\":60}\n",
    "a = {1:10,2:20}\n",
    "b = {3:30,4:40}\n",
    "c = {5:50,6:60}\n",
    "d = {}\n",
    "for i in (a,b,c) :\n",
    "    d.update(i)\n",
    "print(d)"
   ]
  },
  {
   "cell_type": "code",
   "execution_count": 35,
   "id": "e67e5809",
   "metadata": {},
   "outputs": [
    {
     "name": "stdout",
     "output_type": "stream",
     "text": [
      "{0: 0, 1: 1, 2: 4, 3: 9, 4: 16, 5: 25, 6: 36, 7: 49, 8: 64, 9: 81, 10: 100, 11: 121, 12: 144, 13: 169, 14: 196, 15: 225}\n"
     ]
    }
   ],
   "source": [
    "d = dict()\n",
    "#d = {}\n",
    "for i in range(16):\n",
    "    d[i] = i ** 2\n",
    "print(d)    "
   ]
  },
  {
   "cell_type": "markdown",
   "id": "846eb826",
   "metadata": {},
   "source": [
    "# check whether a given key already exists in a dictionary"
   ]
  },
  {
   "cell_type": "code",
   "execution_count": 1,
   "id": "f8e75163",
   "metadata": {},
   "outputs": [
    {
     "name": "stdout",
     "output_type": "stream",
     "text": [
      "yes\n",
      "no\n"
     ]
    }
   ],
   "source": [
    "a = {\"name\":\"priya\", \"age\" : 20,\"country\" : \"nepal\",\"gender\":\"female\"}\n",
    "def is_key_present(x):\n",
    "    if x in a:\n",
    "        print(\"yes\")\n",
    "    else:\n",
    "        print(\"no\")\n",
    "is_key_present(\"name\")\n",
    "is_key_present(\"email\")"
   ]
  },
  {
   "cell_type": "code",
   "execution_count": null,
   "id": "b7adf3be",
   "metadata": {},
   "outputs": [],
   "source": []
  }
 ],
 "metadata": {
  "kernelspec": {
   "display_name": "Python 3 (ipykernel)",
   "language": "python",
   "name": "python3"
  },
  "language_info": {
   "codemirror_mode": {
    "name": "ipython",
    "version": 3
   },
   "file_extension": ".py",
   "mimetype": "text/x-python",
   "name": "python",
   "nbconvert_exporter": "python",
   "pygments_lexer": "ipython3",
   "version": "3.11.5"
  }
 },
 "nbformat": 4,
 "nbformat_minor": 5
}
