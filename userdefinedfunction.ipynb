{
 "cells": [
  {
   "cell_type": "markdown",
   "id": "b580dd19",
   "metadata": {},
   "source": [
    "# day 6"
   ]
  },
  {
   "cell_type": "markdown",
   "id": "81c8e4ee",
   "metadata": {},
   "source": [
    "user defined function"
   ]
  },
  {
   "cell_type": "markdown",
   "id": "f9227e67",
   "metadata": {},
   "source": [
    "creating user defined function"
   ]
  },
  {
   "cell_type": "code",
   "execution_count": 1,
   "id": "4a348ab9",
   "metadata": {},
   "outputs": [],
   "source": [
    "def my_function():\n",
    "    print(\"hello\")"
   ]
  },
  {
   "cell_type": "markdown",
   "id": "01a70619",
   "metadata": {},
   "source": [
    "calling function"
   ]
  },
  {
   "cell_type": "code",
   "execution_count": 2,
   "id": "b69d4cdf",
   "metadata": {},
   "outputs": [
    {
     "name": "stdout",
     "output_type": "stream",
     "text": [
      "hello\n"
     ]
    }
   ],
   "source": [
    "my_function()"
   ]
  },
  {
   "cell_type": "markdown",
   "id": "79833e20",
   "metadata": {},
   "source": [
    "# making the result of a student"
   ]
  },
  {
   "cell_type": "code",
   "execution_count": 3,
   "id": "bbb1032f",
   "metadata": {},
   "outputs": [],
   "source": [
    "def contact():\n",
    "    print(\"contact details\")"
   ]
  },
  {
   "cell_type": "code",
   "execution_count": 5,
   "id": "5d6d8aa7",
   "metadata": {},
   "outputs": [
    {
     "name": "stdout",
     "output_type": "stream",
     "text": [
      "Name rasi\n",
      "Class 1\n",
      "\n",
      "contact details\n",
      "Name ras\n",
      "Class 2\n",
      "\n",
      "contact details\n"
     ]
    }
   ],
   "source": [
    "for i in range(2):\n",
    "    a = input(\"Name \")\n",
    "    b = input(\"Class \")\n",
    "    \n",
    "    print()\n",
    "    contact()"
   ]
  },
  {
   "cell_type": "markdown",
   "id": "34501c2b",
   "metadata": {},
   "source": [
    "# arguments"
   ]
  },
  {
   "cell_type": "code",
   "execution_count": 6,
   "id": "d6a613d8",
   "metadata": {},
   "outputs": [],
   "source": [
    "def my_function(fname):\n",
    "    print(fname + \"sharma\")"
   ]
  },
  {
   "cell_type": "code",
   "execution_count": 9,
   "id": "f91c9b9b",
   "metadata": {},
   "outputs": [
    {
     "name": "stdout",
     "output_type": "stream",
     "text": [
      "pooja sharma\n",
      "priya sharma\n"
     ]
    }
   ],
   "source": [
    "my_function(\"pooja \")\n",
    "my_function(\"priya \")"
   ]
  },
  {
   "cell_type": "markdown",
   "id": "bf320768",
   "metadata": {},
   "source": [
    "# write a program tocalculate electricity bill"
   ]
  },
  {
   "cell_type": "code",
   "execution_count": 13,
   "id": "2e140c52",
   "metadata": {},
   "outputs": [],
   "source": [
    "def electricity(n):\n",
    "    if n<=500:\n",
    "        print(\"pay \" , n*5)\n",
    "    elif n>500 and n<=700 :\n",
    "        print(\"pay \" , n*10)\n",
    "    elif n>700 and n<=1000:\n",
    "        print(\"pay \" , n*15)\n",
    "    elif n>1000:\n",
    "        print(\"pay \" , n*20)\n",
    "    \n",
    "              "
   ]
  },
  {
   "cell_type": "code",
   "execution_count": 14,
   "id": "a6b2c0e8",
   "metadata": {},
   "outputs": [],
   "source": [
    "def instruction():\n",
    "    print(\"please pay\")"
   ]
  },
  {
   "cell_type": "code",
   "execution_count": 15,
   "id": "e499f6cc",
   "metadata": {},
   "outputs": [
    {
     "name": "stdout",
     "output_type": "stream",
     "text": [
      "Enter name rasi\n",
      "Enter unit of electricity 200\n",
      "pay  1000\n",
      "\n",
      "please pay\n",
      "Enter name ras\n",
      "Enter unit of electricity 900\n",
      "pay  13500\n",
      "\n",
      "please pay\n"
     ]
    }
   ],
   "source": [
    "for i in range(2):\n",
    "    a = input(\"Enter name \")\n",
    "    n = int(input(\"Enter unit of electricity \"))\n",
    "    electricity(n)\n",
    "    print()\n",
    "    instruction()"
   ]
  },
  {
   "cell_type": "code",
   "execution_count": null,
   "id": "048ae200",
   "metadata": {},
   "outputs": [],
   "source": []
  }
 ],
 "metadata": {
  "kernelspec": {
   "display_name": "Python 3 (ipykernel)",
   "language": "python",
   "name": "python3"
  },
  "language_info": {
   "codemirror_mode": {
    "name": "ipython",
    "version": 3
   },
   "file_extension": ".py",
   "mimetype": "text/x-python",
   "name": "python",
   "nbconvert_exporter": "python",
   "pygments_lexer": "ipython3",
   "version": "3.11.5"
  }
 },
 "nbformat": 4,
 "nbformat_minor": 5
}
