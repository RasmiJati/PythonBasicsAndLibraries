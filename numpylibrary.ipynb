{
 "cells": [
  {
   "cell_type": "markdown",
   "id": "50a9cc77",
   "metadata": {},
   "source": [
    "# day 12"
   ]
  },
  {
   "cell_type": "markdown",
   "id": "ae21a7cb",
   "metadata": {},
   "source": [
    "# use list to create array"
   ]
  },
  {
   "cell_type": "code",
   "execution_count": 1,
   "id": "9332d1d0",
   "metadata": {},
   "outputs": [],
   "source": [
    "import numpy as np"
   ]
  },
  {
   "cell_type": "code",
   "execution_count": 3,
   "id": "8021c25a",
   "metadata": {},
   "outputs": [
    {
     "name": "stdout",
     "output_type": "stream",
     "text": [
      "[1 2 3 4 5]\n",
      "<class 'numpy.ndarray'>\n"
     ]
    }
   ],
   "source": [
    "arr = np.array([1,2,3,4,5])\n",
    "print(arr)\n",
    "print(type(arr))"
   ]
  },
  {
   "cell_type": "markdown",
   "id": "f93eecb6",
   "metadata": {},
   "source": [
    "# use tuple to create numpy array"
   ]
  },
  {
   "cell_type": "code",
   "execution_count": 4,
   "id": "843878b1",
   "metadata": {},
   "outputs": [
    {
     "name": "stdout",
     "output_type": "stream",
     "text": [
      "[1 2 3 4 5]\n",
      "<class 'numpy.ndarray'>\n"
     ]
    }
   ],
   "source": [
    "arr = np.array((1,2,3,4,5))\n",
    "print(arr)\n",
    "print(type(arr))"
   ]
  },
  {
   "cell_type": "markdown",
   "id": "6c8abaaa",
   "metadata": {},
   "source": [
    "# dimension in array"
   ]
  },
  {
   "cell_type": "markdown",
   "id": "6bf514bf",
   "metadata": {},
   "source": [
    "#zero-d array"
   ]
  },
  {
   "cell_type": "code",
   "execution_count": 9,
   "id": "7ec10866",
   "metadata": {},
   "outputs": [
    {
     "name": "stdout",
     "output_type": "stream",
     "text": [
      "5\n",
      "<class 'numpy.ndarray'>\n",
      "0\n"
     ]
    }
   ],
   "source": [
    "arr = np.array(5)\n",
    "print(arr)\n",
    "print(type(arr))\n",
    "print(arr.ndim)\n",
    "\n"
   ]
  },
  {
   "cell_type": "markdown",
   "id": "d339a56a",
   "metadata": {},
   "source": [
    "1 d array"
   ]
  },
  {
   "cell_type": "code",
   "execution_count": 10,
   "id": "671a5fdd",
   "metadata": {},
   "outputs": [
    {
     "name": "stdout",
     "output_type": "stream",
     "text": [
      "[1 2 3 4 5]\n",
      "<class 'numpy.ndarray'>\n",
      "1\n"
     ]
    }
   ],
   "source": [
    "arr = np.array([1,2,3,4,5])\n",
    "print(arr)\n",
    "print(type(arr))\n",
    "print(arr.ndim)"
   ]
  },
  {
   "cell_type": "markdown",
   "id": "87435c95",
   "metadata": {},
   "source": [
    "2 d array"
   ]
  },
  {
   "cell_type": "code",
   "execution_count": 11,
   "id": "017beb98",
   "metadata": {},
   "outputs": [
    {
     "name": "stdout",
     "output_type": "stream",
     "text": [
      "[[ 1  2  3  4  5]\n",
      " [ 6  7  8  9 10]]\n",
      "<class 'numpy.ndarray'>\n",
      "2\n"
     ]
    }
   ],
   "source": [
    "arr = np.array([[1,2,3,4,5],[6,7,8,9,10]])\n",
    "print(arr)\n",
    "print(type(arr))\n",
    "print(arr.ndim)"
   ]
  },
  {
   "cell_type": "code",
   "execution_count": 12,
   "id": "d6967fb0",
   "metadata": {},
   "outputs": [
    {
     "name": "stdout",
     "output_type": "stream",
     "text": [
      "[[ 1.   2.5  3.6  4.9  5. ]\n",
      " [ 6.   7.   8.   9.  10. ]]\n",
      "<class 'numpy.ndarray'>\n",
      "2\n"
     ]
    }
   ],
   "source": [
    "arr = np.array([[1,2.5,3.6,4.9,5],[6,7,8,9,10]])\n",
    "print(arr)\n",
    "print(type(arr))\n",
    "print(arr.ndim)"
   ]
  },
  {
   "cell_type": "markdown",
   "id": "fff3c313",
   "metadata": {},
   "source": [
    "3 d array"
   ]
  },
  {
   "cell_type": "code",
   "execution_count": 13,
   "id": "57a501f8",
   "metadata": {},
   "outputs": [
    {
     "name": "stdout",
     "output_type": "stream",
     "text": [
      "[[[1 2 3]\n",
      "  [4 5 6]]\n",
      "\n",
      " [[1 2 3]\n",
      "  [4 5 6]]]\n",
      "<class 'numpy.ndarray'>\n",
      "3\n"
     ]
    }
   ],
   "source": [
    "arr = np.array([[[1,2,3],[4,5,6]],[[1,2,3],[4,5,6]]])\n",
    "print(arr)\n",
    "print(type(arr))\n",
    "print(arr.ndim)"
   ]
  },
  {
   "cell_type": "markdown",
   "id": "6fb9babf",
   "metadata": {},
   "source": [
    "# create an array with 5 dimensions and verify that it has 5 dimensions"
   ]
  },
  {
   "cell_type": "code",
   "execution_count": 19,
   "id": "0b2d839c",
   "metadata": {},
   "outputs": [
    {
     "name": "stdout",
     "output_type": "stream",
     "text": [
      "[[[[[1 2 3 4 5]]]]]\n",
      "5\n"
     ]
    }
   ],
   "source": [
    "arr = np.array([1,2,3,4,5], ndmin=5)\n",
    "# arr = np.array([[[[[1,2,3,4,5]]]]])\n",
    "print(arr)\n",
    "print(arr.ndim)"
   ]
  },
  {
   "cell_type": "markdown",
   "id": "5adfa5de",
   "metadata": {},
   "source": [
    "# numpy array indexing"
   ]
  },
  {
   "cell_type": "markdown",
   "id": "8951f9be",
   "metadata": {},
   "source": [
    "# accessing 1D array"
   ]
  },
  {
   "cell_type": "code",
   "execution_count": 23,
   "id": "35ba051b",
   "metadata": {},
   "outputs": [
    {
     "name": "stdout",
     "output_type": "stream",
     "text": [
      "1\n"
     ]
    }
   ],
   "source": [
    "#get first element \n",
    "arr = np.array([1,2,3,4,5,6,7,8,9,10])\n",
    "print(arr[0])"
   ]
  },
  {
   "cell_type": "code",
   "execution_count": 24,
   "id": "4b1b5017",
   "metadata": {},
   "outputs": [
    {
     "name": "stdout",
     "output_type": "stream",
     "text": [
      "third 3\n",
      "sixth 6\n",
      "eight 8\n",
      "sum 17\n"
     ]
    }
   ],
   "source": [
    "#get third, sixth and eight element and add them\n",
    "a = np.array([1,2,3,4,5,6,7,8,9,10])\n",
    "print(\"third\" , a[2])\n",
    "print(\"sixth\" , a[5])\n",
    "print(\"eight\" , a[7])\n",
    "print(\"sum\" , a[2] + a[5] + a[7])\n"
   ]
  },
  {
   "cell_type": "markdown",
   "id": "0c40cfa7",
   "metadata": {},
   "source": [
    "# accessing 2D array"
   ]
  },
  {
   "cell_type": "code",
   "execution_count": 31,
   "id": "788679e1",
   "metadata": {},
   "outputs": [
    {
     "name": "stdout",
     "output_type": "stream",
     "text": [
      "2\n",
      "4\n",
      "6\n"
     ]
    }
   ],
   "source": [
    "arr = np.array([[1,2,3,4,5],[6,7,8,9,10]])\n",
    "print(arr[0, 1])\n",
    "print(arr[0, 3])\n",
    "print(arr[1, 0])"
   ]
  },
  {
   "cell_type": "markdown",
   "id": "cd71c985",
   "metadata": {},
   "source": [
    "access 1st row and last eletement and add them"
   ]
  },
  {
   "cell_type": "code",
   "execution_count": 32,
   "id": "de77fa19",
   "metadata": {},
   "outputs": [
    {
     "name": "stdout",
     "output_type": "stream",
     "text": [
      "1\n",
      "10\n",
      "sum 11\n"
     ]
    }
   ],
   "source": [
    "arr = np.array([[1,2,3,4,5],[6,7,8,9,10]])\n",
    "print(arr[0, 0])\n",
    "print(arr[1, 4])\n",
    "print(\"sum\" , arr[0, 0] + arr[1, 4])"
   ]
  },
  {
   "cell_type": "markdown",
   "id": "8a1883fd",
   "metadata": {},
   "source": [
    "# accessing 3D array"
   ]
  },
  {
   "cell_type": "code",
   "execution_count": 36,
   "id": "6710034c",
   "metadata": {},
   "outputs": [
    {
     "name": "stdout",
     "output_type": "stream",
     "text": [
      "7\n",
      "10\n",
      "3\n"
     ]
    }
   ],
   "source": [
    "arr = np.array([[[1,2,3],[4,5,6]],[[7,8,9],[10,11,12]]])\n",
    "print(arr[1,0,0])\n",
    "print(arr[1,1,0])\n",
    "print(arr[0,0,2])"
   ]
  },
  {
   "cell_type": "markdown",
   "id": "94e8ab03",
   "metadata": {},
   "source": [
    "# day 13"
   ]
  },
  {
   "cell_type": "markdown",
   "id": "66f86199",
   "metadata": {},
   "source": [
    "# slicing in 1D"
   ]
  },
  {
   "cell_type": "code",
   "execution_count": 44,
   "id": "20be622f",
   "metadata": {},
   "outputs": [
    {
     "name": "stdout",
     "output_type": "stream",
     "text": [
      "[2 3 4 5]\n",
      "[ 1  4  7 10]\n"
     ]
    }
   ],
   "source": [
    "arr = np.array([1,2,3,4,5,6,7,8,9,10])\n",
    "print(arr[1:5])\n",
    "print(arr[::3]) #skip two then print"
   ]
  },
  {
   "cell_type": "markdown",
   "id": "94d95d29",
   "metadata": {},
   "source": [
    "# slicing in 2D"
   ]
  },
  {
   "cell_type": "code",
   "execution_count": 39,
   "id": "6fac65bf",
   "metadata": {},
   "outputs": [
    {
     "name": "stdout",
     "output_type": "stream",
     "text": [
      "[2 3 4]\n"
     ]
    }
   ],
   "source": [
    "arr = np.array([[1,2,3,4,5],[6,7,8,9,10]])\n",
    "print(arr[0,1:4])"
   ]
  },
  {
   "cell_type": "markdown",
   "id": "348915a9",
   "metadata": {},
   "source": [
    "# slicing in 3D"
   ]
  },
  {
   "cell_type": "code",
   "execution_count": 45,
   "id": "215c8723",
   "metadata": {},
   "outputs": [
    {
     "name": "stdout",
     "output_type": "stream",
     "text": [
      "[12 11 16]\n",
      "[ 8  9 10]\n"
     ]
    }
   ],
   "source": [
    "arr = np.array([[[1,2,3,8,15,13],[4,5,6,52,85,41]],[[7,8,9,10,6,99],[10,11,12,11,16,17]]])\n",
    "print(arr[1,1,2:5])\n",
    "print(arr[1,0,1:4])"
   ]
  },
  {
   "cell_type": "markdown",
   "id": "b1dd0660",
   "metadata": {},
   "source": [
    "# datatypes in numpy"
   ]
  },
  {
   "cell_type": "markdown",
   "id": "6eab9b48",
   "metadata": {},
   "source": [
    "i - integer\n",
    "b- boolean\n",
    "u-unsigned integer\n",
    "f-float\n",
    "c-complex float\n",
    "m-timedelta\n",
    "M-datetime\n",
    "O-object\n",
    "S-string\n",
    "U-unicode string\n",
    "V- fixed chunckof memory for other type (void)"
   ]
  },
  {
   "cell_type": "markdown",
   "id": "9a6ce735",
   "metadata": {},
   "source": [
    "# check datatype of array"
   ]
  },
  {
   "cell_type": "code",
   "execution_count": 46,
   "id": "d6625e8f",
   "metadata": {},
   "outputs": [
    {
     "name": "stdout",
     "output_type": "stream",
     "text": [
      "int32\n"
     ]
    }
   ],
   "source": [
    "arr = np.array([1,2,3,4,5,6,7,8,9,10])\n",
    "print(arr.dtype)"
   ]
  },
  {
   "cell_type": "markdown",
   "id": "a06298ff",
   "metadata": {},
   "source": [
    "# create arrays with a defined data type"
   ]
  },
  {
   "cell_type": "code",
   "execution_count": 48,
   "id": "68104907",
   "metadata": {},
   "outputs": [
    {
     "name": "stdout",
     "output_type": "stream",
     "text": [
      "[b'1' b'2' b'3' b'4']\n",
      "|S1\n"
     ]
    }
   ],
   "source": [
    "arr = np.array([1,2,3,4], dtype='S')\n",
    "print(arr)\n",
    "print(arr.dtype)"
   ]
  },
  {
   "cell_type": "markdown",
   "id": "d29fb5b0",
   "metadata": {},
   "source": [
    "# create an array with data types 4 bytes integer"
   ]
  },
  {
   "cell_type": "code",
   "execution_count": 49,
   "id": "c8496a98",
   "metadata": {},
   "outputs": [
    {
     "name": "stdout",
     "output_type": "stream",
     "text": [
      "[1 2 3 4]\n",
      "int32\n"
     ]
    }
   ],
   "source": [
    "arr = np.array([1,2,3,4],dtype = 'i4')\n",
    "print(arr)\n",
    "print(arr.dtype)"
   ]
  },
  {
   "cell_type": "markdown",
   "id": "44f87556",
   "metadata": {},
   "source": [
    "# numpy array shape"
   ]
  },
  {
   "cell_type": "markdown",
   "id": "e44bbb13",
   "metadata": {},
   "source": [
    "the shape of an array is the number of elements in each dimension"
   ]
  },
  {
   "cell_type": "markdown",
   "id": "52bc7a0f",
   "metadata": {},
   "source": [
    "# print the shape of a 2D array"
   ]
  },
  {
   "cell_type": "code",
   "execution_count": 53,
   "id": "aaa6a4ab",
   "metadata": {},
   "outputs": [
    {
     "name": "stdout",
     "output_type": "stream",
     "text": [
      "(2, 4)\n"
     ]
    }
   ],
   "source": [
    "arr  = np.array([[1,2,3,4],[5,6,7,8]])\n",
    "print(arr.shape)"
   ]
  },
  {
   "cell_type": "markdown",
   "id": "d752a7e5",
   "metadata": {},
   "source": [
    "# print the shape of a 3D array"
   ]
  },
  {
   "cell_type": "code",
   "execution_count": 55,
   "id": "e8943500",
   "metadata": {},
   "outputs": [
    {
     "name": "stdout",
     "output_type": "stream",
     "text": [
      "(1, 3, 4)\n"
     ]
    }
   ],
   "source": [
    "arr  = np.array([[[1,2,3,4],[5,6,7,8],[10,11,12,13]]])\n",
    "print(arr.shape)"
   ]
  },
  {
   "cell_type": "markdown",
   "id": "b157c621",
   "metadata": {},
   "source": [
    "# join numpy arrays"
   ]
  },
  {
   "cell_type": "markdown",
   "id": "e5801e9f",
   "metadata": {},
   "source": [
    "# concatenation for 1D"
   ]
  },
  {
   "cell_type": "code",
   "execution_count": 60,
   "id": "0641f3c3",
   "metadata": {},
   "outputs": [
    {
     "name": "stdout",
     "output_type": "stream",
     "text": [
      "[1 2 3 4 5 6 7 8]\n"
     ]
    }
   ],
   "source": [
    "arr1 = np.array([1,2,3,4])\n",
    "arr2 = np.array([5,6,7,8])\n",
    "arr = np.concatenate((arr1,arr2))\n",
    "print(arr)"
   ]
  },
  {
   "cell_type": "markdown",
   "id": "a973051a",
   "metadata": {},
   "source": [
    "# concatenate for 2D"
   ]
  },
  {
   "cell_type": "code",
   "execution_count": 11,
   "id": "30248eb1",
   "metadata": {},
   "outputs": [
    {
     "name": "stdout",
     "output_type": "stream",
     "text": [
      "[[ 1  2  3  7  8  9]\n",
      " [ 4  5  6 10 11 12]]\n",
      "\n",
      "[[ 1  2  3]\n",
      " [ 4  5  6]\n",
      " [ 7  8  9]\n",
      " [10 11 12]]\n"
     ]
    }
   ],
   "source": [
    "arr1 = np.array([[1,2,3],[4,5,6]])  \n",
    "arr2 = np.array([[7,8,9],[10,11,12]]) \n",
    "# have two axis i.e 0 and 1\n",
    "# output along axis 1\n",
    "arr = np.concatenate((arr1,arr2) , axis=1)\n",
    "print(arr)\n",
    "# output along axis 0 \n",
    "print()\n",
    "arr = np.concatenate((arr1,arr2) , axis=0)\n",
    "print(arr)"
   ]
  },
  {
   "cell_type": "markdown",
   "id": "3a23b14b",
   "metadata": {},
   "source": [
    "# splitting numpy arrays"
   ]
  },
  {
   "cell_type": "markdown",
   "id": "856f8b32",
   "metadata": {},
   "source": [
    "# splitting array in 3 parts"
   ]
  },
  {
   "cell_type": "code",
   "execution_count": 12,
   "id": "a3c00fc1",
   "metadata": {},
   "outputs": [
    {
     "name": "stdout",
     "output_type": "stream",
     "text": [
      "[array([1, 2]), array([3, 4]), array([5, 6])]\n"
     ]
    }
   ],
   "source": [
    "arr = np.array([1,2,3,4,5,6])\n",
    "newarr = np.array_split(arr,3)\n",
    "print(newarr)"
   ]
  },
  {
   "cell_type": "markdown",
   "id": "a197f433",
   "metadata": {},
   "source": [
    "# splittiing array in 4 parts"
   ]
  },
  {
   "cell_type": "code",
   "execution_count": 14,
   "id": "5639a84a",
   "metadata": {},
   "outputs": [
    {
     "name": "stdout",
     "output_type": "stream",
     "text": [
      "[array([1, 2]), array([3, 4]), array([5]), array([6])]\n"
     ]
    }
   ],
   "source": [
    "arr = np.array([1,2,3,4,5,6])\n",
    "newarr = np.array_split(arr,4)\n",
    "print(newarr)"
   ]
  },
  {
   "cell_type": "markdown",
   "id": "5eb0ec0e",
   "metadata": {},
   "source": [
    "# ravel and flatten"
   ]
  },
  {
   "cell_type": "markdown",
   "id": "b1c1336a",
   "metadata": {},
   "source": [
    "convert multidimensional array into 1D array"
   ]
  },
  {
   "cell_type": "code",
   "execution_count": 20,
   "id": "4bbe6090",
   "metadata": {},
   "outputs": [
    {
     "name": "stdout",
     "output_type": "stream",
     "text": [
      "[[[1 2 3]\n",
      "  [4 5 6]\n",
      "  [7 8 9]]]\n",
      "3\n",
      "new dimension with raven is \n",
      "  [1 2 3 4 5 6 7 8 9]\n",
      "new dimension with flatten is \n",
      "  [1 2 3 4 5 6 7 8 9]\n"
     ]
    }
   ],
   "source": [
    "m = np.array([[[1,2,3],[4,5,6],[7,8,9]]])\n",
    "print(m)\n",
    "print(m.ndim)\n",
    "\n",
    "# convert to 1D\n",
    "n = m.ravel()\n",
    "print(\"new dimension with raven is \\n \",n)\n",
    "\n",
    "# convert to 1D\n",
    "n = m.flatten()\n",
    "print(\"new dimension with flatten is \\n \",n)"
   ]
  },
  {
   "cell_type": "code",
   "execution_count": 22,
   "id": "e8b065eb",
   "metadata": {},
   "outputs": [
    {
     "name": "stdout",
     "output_type": "stream",
     "text": [
      "[[[[1 2 3]\n",
      "   [4 5 6]\n",
      "   [7 8 9]]]]\n",
      "4\n",
      "[1 2 3 4 5 6 7 8 9]\n",
      "1\n"
     ]
    }
   ],
   "source": [
    "c = np.array([[[[1,2,3],[4,5,6],[7,8,9]]]])\n",
    "print(c)\n",
    "print(c.ndim)\n",
    "\n",
    "d = c.ravel()\n",
    "print(d)\n",
    "print(d.ndim)"
   ]
  },
  {
   "cell_type": "markdown",
   "id": "6a62e227",
   "metadata": {},
   "source": [
    "# unique function"
   ]
  },
  {
   "cell_type": "code",
   "execution_count": 23,
   "id": "d36d9d66",
   "metadata": {},
   "outputs": [
    {
     "name": "stdout",
     "output_type": "stream",
     "text": [
      "[12  1  4  6  7  9  4  5 22 33  7  6  9  1  2 12]\n",
      "[ 1  2  4  5  6  7  9 12 22 33]\n"
     ]
    }
   ],
   "source": [
    "k = np.array([12,1,4,6,7,9,4,5,22,33,7,6,9,1,2,12])\n",
    "print(k)\n",
    "x = np.unique(k)\n",
    "print(x)"
   ]
  },
  {
   "cell_type": "code",
   "execution_count": 24,
   "id": "fecce72e",
   "metadata": {},
   "outputs": [
    {
     "name": "stdout",
     "output_type": "stream",
     "text": [
      "[12  1  4  6  7  9  4  5 22 33  7  6  9  1  2 12]\n",
      "(array([ 1,  2,  4,  5,  6,  7,  9, 12, 22, 33]), array([ 1, 14,  2,  7,  3,  4,  5,  0,  8,  9], dtype=int64))\n"
     ]
    }
   ],
   "source": [
    "# also to find index position of unique elements\n",
    "k = np.array([12,1,4,6,7,9,4,5,22,33,7,6,9,1,2,12])\n",
    "print(k)\n",
    "x = np.unique(k, return_index = True)\n",
    "print(x)"
   ]
  },
  {
   "cell_type": "code",
   "execution_count": 26,
   "id": "016efeb1",
   "metadata": {},
   "outputs": [
    {
     "name": "stdout",
     "output_type": "stream",
     "text": [
      "[12  1  4  6  7  9  4  5 22 33  7  6  9  1  2 12]\n",
      "(array([ 1,  2,  4,  5,  6,  7,  9, 12, 22, 33]), array([ 1, 14,  2,  7,  3,  4,  5,  0,  8,  9], dtype=int64), array([2, 1, 2, 1, 2, 2, 2, 2, 1, 1], dtype=int64))\n"
     ]
    }
   ],
   "source": [
    "# also to find repetition of unique elements\n",
    "k = np.array([12,1,4,6,7,9,4,5,22,33,7,6,9,1,2,12])\n",
    "print(k)\n",
    "x = np.unique(k, return_index = True, return_counts = True)\n",
    "print(x)"
   ]
  },
  {
   "cell_type": "markdown",
   "id": "c6d26116",
   "metadata": {},
   "source": [
    "# delete"
   ]
  },
  {
   "cell_type": "markdown",
   "id": "741bf618",
   "metadata": {},
   "source": [
    "# 1D array"
   ]
  },
  {
   "cell_type": "code",
   "execution_count": 29,
   "id": "c8089742",
   "metadata": {},
   "outputs": [
    {
     "name": "stdout",
     "output_type": "stream",
     "text": [
      "[12 14 15]\n"
     ]
    }
   ],
   "source": [
    "a = np.array([12,13,14,15])\n",
    "d = np.delete(a,[1])\n",
    "print(d)"
   ]
  },
  {
   "cell_type": "markdown",
   "id": "9df37c80",
   "metadata": {},
   "source": [
    "# 2D array"
   ]
  },
  {
   "cell_type": "code",
   "execution_count": 36,
   "id": "4c91e171",
   "metadata": {},
   "outputs": [
    {
     "name": "stdout",
     "output_type": "stream",
     "text": [
      "[[ 2  7  9  6  8]\n",
      " [ 4  5  7  1  2]\n",
      " [50  0 65  6  7]]\n",
      "\n",
      "[[ 2  7  9  6  8]\n",
      " [50  0 65  6  7]]\n",
      "\n",
      "[[ 4  5  7  1  2]\n",
      " [50  0 65  6  7]]\n"
     ]
    }
   ],
   "source": [
    "x = np.array([[2,7,9,6,8],[4,5,7,1,2],[50,0,65,6,7]])\n",
    "print(x)\n",
    "print()\n",
    "d = np.delete(x,1,0)\n",
    "print(d)\n",
    "print()\n",
    "\n",
    "d = np.delete(x,0,0)\n",
    "print(d)"
   ]
  },
  {
   "cell_type": "code",
   "execution_count": null,
   "id": "d4719742",
   "metadata": {},
   "outputs": [],
   "source": []
  }
 ],
 "metadata": {
  "kernelspec": {
   "display_name": "Python 3 (ipykernel)",
   "language": "python",
   "name": "python3"
  },
  "language_info": {
   "codemirror_mode": {
    "name": "ipython",
    "version": 3
   },
   "file_extension": ".py",
   "mimetype": "text/x-python",
   "name": "python",
   "nbconvert_exporter": "python",
   "pygments_lexer": "ipython3",
   "version": "3.11.5"
  }
 },
 "nbformat": 4,
 "nbformat_minor": 5
}
